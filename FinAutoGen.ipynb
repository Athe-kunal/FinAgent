{
 "cells": [
  {
   "cell_type": "code",
   "execution_count": 1,
   "metadata": {},
   "outputs": [],
   "source": [
    "from data_source.vectorDatabaseChroma import create_database\n",
    "%load_ext autoreload\n",
    "%autoreload 2"
   ]
  },
  {
   "cell_type": "code",
   "execution_count": 130,
   "metadata": {},
   "outputs": [
    {
     "name": "stderr",
     "output_type": "stream",
     "text": [
      "/home/athekunal/Finance Data/.venv/lib/python3.10/site-packages/huggingface_hub/file_download.py:1132: FutureWarning: `resume_download` is deprecated and will be removed in version 1.0.0. Downloads always resume when possible. If you want to force a new download, use `force_download=True`.\n",
      "  warnings.warn(\n"
     ]
    },
    {
     "name": "stdout",
     "output_type": "stream",
     "text": [
      "Earnings Call Q1\n",
      "Earnings Call Q2\n",
      "Earnings Call Q3\n",
      "Earnings Call Q4\n",
      "SEC\n",
      "Started Scraping\n",
      "Scraped\n",
      "Started Extracting\n"
     ]
    },
    {
     "name": "stderr",
     "output_type": "stream",
     "text": [
      "huggingface/tokenizers: The current process just got forked, after parallelism has already been used. Disabling parallelism to avoid deadlocks...\n",
      "To disable this warning, you can either:\n",
      "\t- Avoid using `tokenizers` before the fork if possible\n",
      "\t- Explicitly set the environment variable TOKENIZERS_PARALLELISM=(true | false)\n",
      "huggingface/tokenizers: The current process just got forked, after parallelism has already been used. Disabling parallelism to avoid deadlocks...\n",
      "To disable this warning, you can either:\n",
      "\t- Avoid using `tokenizers` before the fork if possible\n",
      "\t- Explicitly set the environment variable TOKENIZERS_PARALLELISM=(true | false)\n",
      "huggingface/tokenizers: The current process just got forked, after parallelism has already been used. Disabling parallelism to avoid deadlocks...\n",
      "To disable this warning, you can either:\n",
      "\t- Avoid using `tokenizers` before the fork if possible\n",
      "\t- Explicitly set the environment variable TOKENIZERS_PARALLELISM=(true | false)\n",
      "huggingface/tokenizers: The current process just got forked, after parallelism has already been used. Disabling parallelism to avoid deadlocks...\n",
      "To disable this warning, you can either:\n",
      "\t- Avoid using `tokenizers` before the fork if possible\n",
      "\t- Explicitly set the environment variable TOKENIZERS_PARALLELISM=(true | false)\n"
     ]
    },
    {
     "name": "stdout",
     "output_type": "stream",
     "text": [
      "Extracted\n"
     ]
    }
   ],
   "source": [
    "chromadb,speakers_list_1,speakers_list_2,speakers_list_3,speakers_list_4,sec_form_names,earnings_call_quarter_vals = create_database(\"META\",\"2023\",embed_type=\"sentence_transformer\")"
   ]
  },
  {
   "cell_type": "code",
   "execution_count": 131,
   "metadata": {},
   "outputs": [],
   "source": [
    "langchain_chromadb,speakers_list_1,speakers_list_2,speakers_list_3,speakers_list_4,sec_form_names,earnings_call_quarter_vals = create_database(\"META\",\"2023\",embed_type=\"sentence_transformer\")"
   ]
  },
  {
   "cell_type": "code",
   "execution_count": 132,
   "metadata": {},
   "outputs": [
    {
     "data": {
      "text/plain": [
       "[Document(page_content='was more than 10\\xa0times higher than in the Asia-Pacific region. --ARPU:--$53.01--$52.34--$60.57--$48.29---$50.25--$49.13---$58.77---$48.85---$53.53--------ARPU:--$17.23--$16.50--$19.68--$15.35--$15.64---$14.23--$17.29---$15.51---$17.88 Note: Non-advertising revenue includes RL revenue generated from the delivery of consumer hardware products and FoA Other revenue, which consists of net fees we receive from developers using our Payments infrastructure and revenue from various other sources. Our revenue by', metadata={'accessionNumber': '000132680123000093', 'filingDate': '2023-07-27', 'filing_type': '10-Q2', 'reportDate': '2023-06-30', 'sectionName': 'MANAGEMENT_DISCUSSION'}),\n",
       " Document(page_content='was more than 10\\xa0times higher than in the Asia-Pacific region. --ARPU:--$48.03--$53.01--$52.34--$60.57---$48.29--$50.25---$49.13---$58.77---$48.85--------ARPU:--$15.49--$17.23--$16.50--$19.68--$15.35---$15.64--$14.23--$17.29---$15.51 Note: Non-advertising revenue includes RL revenue generated from the delivery of consumer hardware products and FoA Other revenue, which consists of net fees we receive from developers using our Payments infrastructure and revenue from various other sources. Our revenue by', metadata={'accessionNumber': '000132680123000067', 'filingDate': '2023-04-27', 'filing_type': '10-Q1', 'reportDate': '2023-03-31', 'sectionName': 'MANAGEMENT_DISCUSSION'}),\n",
       " Document(page_content='advertising markets. For example, ARPU in the third quarter of 2023 in the United States & Canada region was more than 10\\xa0times higher than in the Asia-Pacific region. --ARPU:--$52.34--$60.57--$48.29--$50.25---$49.13--$58.77---$48.85---$53.53---$56.11--------ARPU:--$16.50--$19.68--$15.35--$15.64--$14.23---$17.29--$15.51---$17.88---$19.04 Note: Non-advertising revenue includes RL revenue generated from the delivery of consumer hardware products and FoA Other revenue, which consists of net fees we receive', metadata={'accessionNumber': '000132680123000103', 'filingDate': '2023-10-26', 'filing_type': '10-Q3', 'reportDate': '2023-09-30', 'sectionName': 'MANAGEMENT_DISCUSSION'}),\n",
       " Document(page_content='was more than 11\\xa0times higher than in the Asia-Pacific region. --ARPU:--$60.57--$48.29--$50.25--$49.13---$58.77--$48.85---$53.53---$56.11---$68.44--------ARPU:--$19.68--$15.35--$15.64--$14.23--$17.29---$15.51--$17.88---$19.04---$23.14 Note: Non-advertising revenue includes RL revenue generated from the delivery of consumer hardware products and FoA Other revenue, which consists of revenue from WhatsApp Business Platform, net fees we receive from developers using our Payments infrastructure, and revenue', metadata={'accessionNumber': '000132680124000012', 'filingDate': '2024-02-02', 'filing_type': '10-K', 'reportDate': '2023-12-31', 'sectionName': 'MANAGEMENT_DISCUSSION'}),\n",
       " Document(page_content='was more than 11\\xa0times higher than in the Asia-Pacific region. --ARPU:--$60.57--$48.29--$50.25--$49.13---$58.77--$48.85---$53.53---$56.11---$68.44--------ARPU:--$19.68--$15.35--$15.64--$14.23--$17.29---$15.51--$17.88---$19.04---$23.14 Note: Non-advertising revenue includes RL revenue generated from the delivery of consumer hardware products and FoA Other revenue, which consists of revenue from WhatsApp Business Platform, net fees we receive from developers using our Payments infrastructure, and revenue', metadata={'accessionNumber': '000132680124000012', 'filingDate': '2024-02-02', 'filing_type': '10-K', 'reportDate': '2023-12-31', 'sectionName': 'MANAGEMENT'})]"
      ]
     },
     "execution_count": 132,
     "metadata": {},
     "output_type": "execute_result"
    }
   ],
   "source": [
    "langchain_chromadb.similarity_search(\"What is the revenue breakdown of Nvidia?\",k=5)"
   ]
  },
  {
   "cell_type": "code",
   "execution_count": 133,
   "metadata": {},
   "outputs": [
    {
     "data": {
      "text/plain": [
       "[Document(page_content='was more than 10\\xa0times higher than in the Asia-Pacific region. --ARPU:--$53.01--$52.34--$60.57--$48.29---$50.25--$49.13---$58.77---$48.85---$53.53--------ARPU:--$17.23--$16.50--$19.68--$15.35--$15.64---$14.23--$17.29---$15.51---$17.88 Note: Non-advertising revenue includes RL revenue generated from the delivery of consumer hardware products and FoA Other revenue, which consists of net fees we receive from developers using our Payments infrastructure and revenue from various other sources. Our revenue by', metadata={'accessionNumber': '000132680123000093', 'filingDate': '2023-07-27', 'filing_type': '10-Q2', 'reportDate': '2023-06-30', 'sectionName': 'MANAGEMENT_DISCUSSION'}),\n",
       " Document(page_content='have been $1.09\\xa0billion and $1.08\\xa0billion higher than actual total revenue and advertising revenue, respectively, for the six months ended June\\xa030, 2023. Cost of revenue in the three and six months ended June\\xa030, 2023 increased $753\\xa0million, or 15%, and $857\\xa0million, or 8%, respectively, compared to the same periods in 2022. The increases were primarily driven by higher operational expenses related to our data centers and technical infrastructure. In the six months ended June\\xa030, 2023, the increase was', metadata={'accessionNumber': '000132680123000093', 'filingDate': '2023-07-27', 'filing_type': '10-Q2', 'reportDate': '2023-06-30', 'sectionName': 'MANAGEMENT_DISCUSSION'}),\n",
       " Document(page_content='the 1% excise tax as a result of the Inflation Reduction Act of 2022. As of June\\xa030, 2023, $40.91 billion remained available and authorized for repurchases. The following table presents our cash flows (in millions): Net cash provided by operating activities Net cash used in investing activities Net cash used in financing activities Cash provided by operating activities during the six months ended June\\xa030, 2023 mostly consisted of net income adjusted for certain non-cash items, such as $7.11\\xa0billion of', metadata={'accessionNumber': '000132680123000093', 'filingDate': '2023-07-27', 'filing_type': '10-Q2', 'reportDate': '2023-06-30', 'sectionName': 'MANAGEMENT_DISCUSSION'}),\n",
       " Document(page_content='this calculation only includes users of our Family products as described in the definition of MAP above. We estimate that the share of revenue from users who are not also MAP was not material. Note: Non-advertising revenue includes RL revenue generated from the delivery of consumer hardware products and FoA Other revenue, which consists of net fees we receive from developers using our Payments infrastructure and revenue from various other sources. During the second quarter of 2023, worldwide ARPP was', metadata={'accessionNumber': '000132680123000093', 'filingDate': '2023-07-27', 'filing_type': '10-Q2', 'reportDate': '2023-06-30', 'sectionName': 'MANAGEMENT_DISCUSSION'}),\n",
       " Document(page_content='recognize revenue on a net basis. Other revenue consists of net fees we receive from developers using our Payments infrastructure and revenue from RL revenue is generated from the delivery of consumer hardware products, such as Meta Quest, wearables, and related software and content. Our cost of revenue consists mostly of expenses associated with the delivery and distribution of our products. These include expenses related to the operation of our data centers and technical infrastructure, such as', metadata={'accessionNumber': '000132680123000093', 'filingDate': '2023-07-27', 'filing_type': '10-Q2', 'reportDate': '2023-06-30', 'sectionName': 'MANAGEMENT_DISCUSSION'})]"
      ]
     },
     "execution_count": 133,
     "metadata": {},
     "output_type": "execute_result"
    }
   ],
   "source": [
    "chromadb.similarity_search(\"What is the revenue breakdown of Nvidia?\",k=5,filter={\n",
    "        \"filing_type\":{\"$eq\":\"10-Q2\"}\n",
    "    })"
   ]
  },
  {
   "cell_type": "code",
   "execution_count": 134,
   "metadata": {},
   "outputs": [],
   "source": [
    "q = chromadb.get(\n",
    "    where={\n",
    "        \"filing_type\":{\"$eq\":\"10-Q2\"}\n",
    "    }\n",
    ")"
   ]
  },
  {
   "cell_type": "code",
   "execution_count": 135,
   "metadata": {},
   "outputs": [
    {
     "data": {
      "text/plain": [
       "{'accessionNumber': '000132680123000093',\n",
       " 'filingDate': '2023-07-27',\n",
       " 'filing_type': '10-Q2',\n",
       " 'reportDate': '2023-06-30',\n",
       " 'sectionName': 'MANAGEMENT_DISCUSSION'}"
      ]
     },
     "execution_count": 135,
     "metadata": {},
     "output_type": "execute_result"
    }
   ],
   "source": [
    "q['metadatas'][0]"
   ]
  },
  {
   "cell_type": "code",
   "execution_count": 136,
   "metadata": {},
   "outputs": [],
   "source": [
    "quarter_speaker_dict = {\n",
    "    \"Q1\":speakers_list_1,\n",
    "    \"Q2\":speakers_list_2,\n",
    "    \"Q3\":speakers_list_3,\n",
    "    \"Q4\":speakers_list_4\n",
    "}"
   ]
  },
  {
   "cell_type": "code",
   "execution_count": 137,
   "metadata": {},
   "outputs": [],
   "source": [
    "from typing import Annotated\n",
    "def query_database_earnings_call(\n",
    "        question: str,\n",
    "        quarter: str\n",
    ")->str:\n",
    "    \"\"\"This tool will query the earnings call transcripts database for a given question and quarter and it will retrieve\n",
    "       the relevant text along from the earnings call and the speaker who addressed the relevant documents. This tool helps in answering questions\n",
    "       from the earnings call transcripts.\n",
    "\n",
    "    Args:\n",
    "        question (str): _description_. Question to query the database for relevant documents.\n",
    "        quarter (str): _description_. the financial quarter that is discussed in the question and possible options are Q1, Q2, Q3, Q4\n",
    "\n",
    "    Returns:\n",
    "        str: relevant text along from the earnings call and the speaker who addressed the relevant documents\n",
    "    \"\"\"\n",
    "    assert quarter in earnings_call_quarter_vals, \"The quarter should be from Q1, Q2, Q3, Q4\"\n",
    "    \n",
    "    req_speaker_list = []\n",
    "    quarter_speaker_list = quarter_speaker_dict[quarter]\n",
    "\n",
    "    for sl in quarter_speaker_list:\n",
    "        if sl in question or sl.lower() in question:\n",
    "            req_speaker_list.append(sl)\n",
    "    if len(req_speaker_list) == 0:\n",
    "        req_speaker_list = quarter_speaker_list\n",
    "    \n",
    "    relevant_docs = langchain_chromadb.similarity_search(\n",
    "        question,\n",
    "        k=5,\n",
    "        filter={\n",
    "            \"$and\":[\n",
    "                {\n",
    "                    \"quarter\":{\"$eq\":quarter}\n",
    "                },\n",
    "                {\n",
    "                    \"speaker\":{\"$in\":req_speaker_list}\n",
    "                }\n",
    "            ]\n",
    "        }\n",
    "    )\n",
    "\n",
    "    speaker_releavnt_dict = {}\n",
    "    for doc in relevant_docs:\n",
    "        speaker = doc.metadata['speaker']\n",
    "        speaker_text = doc.page_content\n",
    "        if speaker not in speaker_releavnt_dict:\n",
    "            speaker_releavnt_dict[speaker] = speaker_text\n",
    "        else:\n",
    "            speaker_releavnt_dict[speaker] += \" \"+speaker_text\n",
    "    \n",
    "    relevant_speaker_text = \"\"\n",
    "    for speaker, text in speaker_releavnt_dict.items():\n",
    "        relevant_speaker_text += speaker + \": \"\n",
    "        relevant_speaker_text += text + \"\\n\\n\"\n",
    "\n",
    "    return relevant_speaker_text\n"
   ]
  },
  {
   "cell_type": "code",
   "execution_count": 138,
   "metadata": {},
   "outputs": [],
   "source": [
    "val = query_database_earnings_call(\n",
    "    \"Revenue breakdown\",\n",
    "    \"Q4\"\n",
    ")"
   ]
  },
  {
   "cell_type": "code",
   "execution_count": 139,
   "metadata": {},
   "outputs": [
    {
     "name": "stdout",
     "output_type": "stream",
     "text": [
      "Susan Li: Thanks, Mark, and good afternoon, everyone. Let's begin with our consolidated results. All comparisons are on a year-over-year basis, unless otherwise noted. Q4 total revenue was $40.1 billion, up 25% or 22% on a constant currency basis. Q4 total expenses were $23.7 billion, down 8% compared to last year.  In terms of the specific line items, cost of revenue decreased 8%, 0driven mainly by lower restructuring costs that were partially offset by higher infrastructure-related costs. R&D increased 8% driven the fourth quarter with over 67,300 employees, down 22% from a year ago while up 2% from Q3 as our hiring efforts have resumed. Fourth quarter operating income was $16.4 billion, representing a 41% operating margin. Our tax rate for the quarter was 17%.  Net income was $14 billion or $5.33 per share. Capital expenditures, including principal payments on finance leases, were $7.9 billion, driven by investments in servers, data centers and network infrastructure. Free cash flow was $11.5 billion, which legal and regulatory headwinds in the EU and the U.S. that could significantly impact our business and our financial results. Of note, the FTC is seeking to substantially modify our existing consent order and impose additional restrictions on our ability to operate. We are contesting this matter, but if we are unsuccessful, it would have an adverse impact on our business.  Turning now to the revenue outlook. We expect first quarter 2024 total revenue to be in the range of $34.5 billion to $37 billion. Our revenue was $39 billion, up 24% year-over-year. Q4 Family of Apps ad revenue was $38.7 billion, up 24% or 21% on a constant currency basis. Within ad revenue, the online commerce vertical was the largest contributor to year-over-year growth, followed by CPG and gaming.  On a user geography basis, ad revenue growth was strongest in Europe and Rest of World at 33% and 32%, respectively, followed by Asia Pacific at 23% and North America at 19%. Foreign currency was a tailwind to advertising revenue growth in revenue to be in the range of $34.5 billion to $37 billion. Our guidance assumes foreign currency is neutral to year-over-year total revenue growth based on current exchange rates.  Turning now to the expense outlook. We expect full year 2024 total expenses to be in the range of $94 billion to $99 billion, unchanged from our prior outlook. We continue to expect a few factors to be drivers of total expense growth in 2024.  First, we expect higher infrastructure-related costs this year. Given our increased\n",
      "\n",
      "\n"
     ]
    }
   ],
   "source": [
    "print(val)"
   ]
  },
  {
   "cell_type": "code",
   "execution_count": 140,
   "metadata": {},
   "outputs": [],
   "source": [
    "def query_database_sec(\n",
    "        question: str,\n",
    "        sec_form_name: str\n",
    ")->str:\n",
    "    \"\"\"This tool will query the SEC Filings database for a given question and form name, and it will retrieve\n",
    "       the relevant text along from the SEC filings and the section names. This tool helps in answering questions\n",
    "       from the sec filings.\n",
    "\n",
    "    Args:\n",
    "        question (str): _description_. Question to query the database for relevant documents\n",
    "        sec_form_name (str): _description_. SEC FORM NAME that the question is talking about. It can be 10-K for yearly data and 10-Q for quarterly data. For quarterly data, it can be 10-Q2 to represent Quarter 2 and similarly for other quarters.\n",
    "\n",
    "    Returns:\n",
    "        str: Relevant context for the question from the sec filings\n",
    "    \"\"\"\n",
    "    assert sec_form_name in sec_form_names, f'The search form type should be in {sec_form_names}'\n",
    "    \n",
    "    relevant_docs = langchain_chromadb.similarity_search(\n",
    "        question,\n",
    "        k=5,\n",
    "        filter={\n",
    "            \"filing_type\":{\"$eq\":sec_form_name}\n",
    "        }\n",
    "    )\n",
    "\n",
    "    relevant_section_dict = {}\n",
    "    for doc in relevant_docs:\n",
    "        section = doc.metadata['sectionName']\n",
    "        section_text = doc.page_content\n",
    "        if section not in relevant_section_dict:\n",
    "            relevant_section_dict[section] = section_text\n",
    "        else:\n",
    "            relevant_section_dict[section] += \" \"+section_text\n",
    "    \n",
    "    relevant_section_text = \"\"\n",
    "    for section, text in relevant_section_dict.items():\n",
    "        relevant_section_text += section + \": \"\n",
    "        relevant_section_text += text + \"\\n\\n\"\n",
    "\n",
    "    return relevant_section_text"
   ]
  },
  {
   "cell_type": "code",
   "execution_count": 141,
   "metadata": {},
   "outputs": [
    {
     "data": {
      "text/plain": [
       "'MANAGEMENT_DISCUSSION: was more than 11\\xa0times higher than in the Asia-Pacific region. --ARPU:--$60.57--$48.29--$50.25--$49.13---$58.77--$48.85---$53.53---$56.11---$68.44--------ARPU:--$19.68--$15.35--$15.64--$14.23--$17.29---$15.51--$17.88---$19.04---$23.14 Note: Non-advertising revenue includes RL revenue generated from the delivery of consumer hardware products and FoA Other revenue, which consists of revenue from WhatsApp Business Platform, net fees we receive from developers using our Payments infrastructure, and revenue\\n\\nMANAGEMENT: was more than 11\\xa0times higher than in the Asia-Pacific region. --ARPU:--$60.57--$48.29--$50.25--$49.13---$58.77--$48.85---$53.53---$56.11---$68.44--------ARPU:--$19.68--$15.35--$15.64--$14.23--$17.29---$15.51--$17.88---$19.04---$23.14 Note: Non-advertising revenue includes RL revenue generated from the delivery of consumer hardware products and FoA Other revenue, which consists of revenue from WhatsApp Business Platform, net fees we receive from developers using our Payments infrastructure, and revenue\\n\\nFINANCIAL_STATEMENTS: or retrospectively. We do not expect the adoption of this guidance to have a material impact on our consolidated financial statements. Revenue disaggregated by revenue source and by segment consists of the following (in millions): Revenue disaggregated by geography, based on the addresses of our customers, consists of the following (in millions): United States revenue was $49.78\\xa0billion, $47.20\\xa0billion, and $48.38\\xa0billion for the years ended December\\xa031, 2023, 2022, and 2021, respectively. China revenue are accounted for as variable consideration when estimating the amount of revenue to recognize. We estimate these amounts and reduce revenue based on the amounts expected to be provided to customers. We believe that there will not be significant changes to our estimates of variable consideration. RL revenue is generated from the delivery of consumer hardware products, such as Meta Quest, wearables, and related software and content. Revenue is recognized at the time control of the products is transferred to from revenue earned from customers across different industries and countries. We generated 37%, 40%, and 41% of our revenue for the years ended December\\xa031, 2023, 2022, and 2021, respectively, from marketers and developers based in the United States, with a majority of the revenue outside of the United States in 2023 coming from customers located in western Europe, China, Brazil, Australia, Canada and Japan. We perform ongoing credit evaluations of our customers and generally do not require collateral. We\\n\\n'"
      ]
     },
     "execution_count": 141,
     "metadata": {},
     "output_type": "execute_result"
    }
   ],
   "source": [
    "query_database_sec(\n",
    "    \"What is the revenue breakdown of Nvidia?\",\n",
    "    \"10-K\"\n",
    ")"
   ]
  },
  {
   "cell_type": "code",
   "execution_count": 142,
   "metadata": {},
   "outputs": [],
   "source": [
    "from FinCrewAI.books_db import load_database\n",
    "\n",
    "books_collection = load_database()\n",
    "\n",
    "def query_database_books(\n",
    "         question: str\n",
    ")->str:\n",
    "    \"\"\"This tool will query the financial books database for a given question and it will retrieve the relevant text.\n",
    "        This tool helps in answering questions from the earnings call transcripts.\n",
    "\n",
    "    Args:\n",
    "        question (str): _description_. Question to query the database for relevant documents\n",
    "\n",
    "    Returns:\n",
    "        str: relevant documents from the financial books database\n",
    "    \"\"\"\n",
    "    relevant_docs = books_collection.similarity_search(\n",
    "        question,\n",
    "        k=5,\n",
    "    )\n",
    "    releavnt_text = \"\"\n",
    "    for doc in relevant_docs:\n",
    "        releavnt_text += doc.page_content\n",
    "        releavnt_text += \"\\n\\n\"\n",
    "    return releavnt_text"
   ]
  },
  {
   "cell_type": "markdown",
   "metadata": {},
   "source": [
    "## AUTOGEN AGENT"
   ]
  },
  {
   "cell_type": "code",
   "execution_count": 143,
   "metadata": {},
   "outputs": [],
   "source": [
    "from autogen import ConversableAgent, AssistantAgent\n",
    "from dotenv import load_dotenv,find_dotenv\n",
    "\n",
    "load_dotenv(find_dotenv(),override=True)\n",
    "llm_config = {\"model\":\"gpt-4-turbo\"}"
   ]
  },
  {
   "cell_type": "code",
   "execution_count": 144,
   "metadata": {},
   "outputs": [
    {
     "data": {
      "text/plain": [
       "'10-K for yearly data, 10-Q3 for Q3 data, 10-Q2 for Q2 data, 10-Q1 for Q1 data'"
      ]
     },
     "execution_count": 144,
     "metadata": {},
     "output_type": "execute_result"
    }
   ],
   "source": [
    "sec_form_system_msg = \"\"\n",
    "\n",
    "for sec_form in sec_form_names:\n",
    "    if sec_form == \"10-K\":\n",
    "        sec_form_system_msg+= \"10-K for yearly data, \"\n",
    "    elif \"10-Q\" in sec_form:\n",
    "        quarter = sec_form[-1]\n",
    "        sec_form_system_msg+= f\"{sec_form} for Q{quarter} data, \"\n",
    "sec_form_system_msg[:-2]"
   ]
  },
  {
   "cell_type": "code",
   "execution_count": 145,
   "metadata": {},
   "outputs": [],
   "source": [
    "earnings_call_system_message = \", \".join(earnings_call_quarter_vals)"
   ]
  },
  {
   "cell_type": "code",
   "execution_count": 173,
   "metadata": {},
   "outputs": [
    {
     "name": "stdout",
     "output_type": "stream",
     "text": [
      "You are a helpful financial assistant and your task is to select the sec_filings or earnings_call or financial_books to best answer the question. \n",
      "You can call to query_database_sec(question,sec_form) by passing question and relevant sec_form names like 10-K for yearly data, 10-Q3 for Q3 data, 10-Q2 for Q2 data, 10-Q1 for Q1 data,  \n",
      "or you can call to query_database_earnings_call(question,quarter) by passing question and relevant quarter names with possible values Q1, Q2, Q3, Q4 \n",
      "or you can call to query_database_books(question) to get relevant documents from financial textbooks about valuation and investing philosophies. When you are ready to end the coversation, reply TERMINATE\n"
     ]
    }
   ],
   "source": [
    "system_msg = f\"\"\"You are a helpful financial assistant and your task is to select the sec_filings or earnings_call or financial_books to best answer the question. \n",
    "You can call to query_database_sec(question,sec_form) by passing question and relevant sec_form names like {sec_form_system_msg} \n",
    "or you can call to query_database_earnings_call(question,quarter) by passing question and relevant quarter names with possible values {earnings_call_system_message} \n",
    "or you can call to query_database_books(question) to get relevant documents from financial textbooks about valuation and investing philosophies. When you are ready to end the coversation, reply TERMINATE\"\"\"\n",
    "print(system_msg)"
   ]
  },
  {
   "cell_type": "code",
   "execution_count": 174,
   "metadata": {},
   "outputs": [],
   "source": [
    "user_proxy = ConversableAgent(\n",
    "    name = \"Planner Admin\",\n",
    "    system_message=system_msg,\n",
    "    code_execution_config=False,\n",
    "    llm_config=llm_config,\n",
    "    human_input_mode=\"NEVER\",\n",
    "    is_termination_msg=lambda msg: \"TERMINATE\" in msg[\"content\"],\n",
    ")"
   ]
  },
  {
   "cell_type": "code",
   "execution_count": 175,
   "metadata": {},
   "outputs": [
    {
     "name": "stdout",
     "output_type": "stream",
     "text": [
      "You are a helpful financial assistant and your task is to select the sec_filings or earnings_call or financial_books to best answer the question. \n",
      "You can call to query_database_sec(question,sec_form) by passing question and relevant sec_form names like 10-K for yearly data, 10-Q3 for Q3 data, 10-Q2 for Q2 data, 10-Q1 for Q1 data,  \n",
      "or you can call to query_database_earnings_call(question,quarter) by passing question and relevant quarter names with possible values Q1, Q2, Q3, Q4 \n",
      "or you can call to query_database_books(question) to get relevant documents from financial textbooks about valuation and investing philosophies. When you are ready to end the coversation, reply TERMINATE\n"
     ]
    }
   ],
   "source": [
    "print(user_proxy.system_message)"
   ]
  },
  {
   "cell_type": "code",
   "execution_count": 176,
   "metadata": {},
   "outputs": [],
   "source": [
    "tool_proxy = ConversableAgent(\n",
    "    name=\"Tool Proxy\",\n",
    "    llm_config=False,\n",
    "    default_auto_reply=\"Please select the right database.\",\n",
    "    human_input_mode=\"NEVER\",\n",
    ")"
   ]
  },
  {
   "cell_type": "code",
   "execution_count": 177,
   "metadata": {},
   "outputs": [],
   "source": [
    "from autogen import register_function\n",
    "\n",
    "tools_dict = {\n",
    "    \"sec\":[query_database_sec,\"Tool to query SEC filings database\"],\n",
    "    \"earnings_call\": [query_database_earnings_call, \"Tool to query earnings call transcripts database\"],\n",
    "    \"books\": [query_database_books, \"Tool to query books database\"], \n",
    "}\n",
    "\n",
    "for tool_name,tool in tools_dict.items():\n",
    "    register_function(\n",
    "        tool[0],\n",
    "        caller=user_proxy,\n",
    "        executor=tool_proxy,\n",
    "        name = tool[0].__name__,\n",
    "        description=tool[1]       \n",
    "    )"
   ]
  },
  {
   "cell_type": "code",
   "execution_count": 178,
   "metadata": {},
   "outputs": [
    {
     "data": {
      "text/plain": [
       "[{'type': 'function',\n",
       "  'function': {'description': 'Tool to query SEC filings database',\n",
       "   'name': 'query_database_sec',\n",
       "   'parameters': {'type': 'object',\n",
       "    'properties': {'question': {'type': 'string', 'description': 'question'},\n",
       "     'sec_form_name': {'type': 'string', 'description': 'sec_form_name'}},\n",
       "    'required': ['question', 'sec_form_name']}}},\n",
       " {'type': 'function',\n",
       "  'function': {'description': 'Tool to query earnings call transcripts database',\n",
       "   'name': 'query_database_earnings_call',\n",
       "   'parameters': {'type': 'object',\n",
       "    'properties': {'question': {'type': 'string', 'description': 'question'},\n",
       "     'quarter': {'type': 'string', 'description': 'quarter'}},\n",
       "    'required': ['question', 'quarter']}}},\n",
       " {'type': 'function',\n",
       "  'function': {'description': 'Tool to query books database',\n",
       "   'name': 'query_database_books',\n",
       "   'parameters': {'type': 'object',\n",
       "    'properties': {'question': {'type': 'string', 'description': 'question'}},\n",
       "    'required': ['question']}}}]"
      ]
     },
     "execution_count": 178,
     "metadata": {},
     "output_type": "execute_result"
    }
   ],
   "source": [
    "user_proxy.llm_config[\"tools\"]"
   ]
  },
  {
   "cell_type": "code",
   "execution_count": 179,
   "metadata": {},
   "outputs": [
    {
     "name": "stdout",
     "output_type": "stream",
     "text": [
      "\u001b[33mPlanner Admin\u001b[0m (to Tool Proxy):\n",
      "\n",
      "What is the revenue breakdown of Meta for the fiscal year 2023?\n",
      "\n",
      "--------------------------------------------------------------------------------\n",
      "\u001b[33mTool Proxy\u001b[0m (to Planner Admin):\n",
      "\n",
      "Please select the right database.\n",
      "\n",
      "--------------------------------------------------------------------------------\n"
     ]
    },
    {
     "name": "stdout",
     "output_type": "stream",
     "text": [
      "\u001b[33mPlanner Admin\u001b[0m (to Tool Proxy):\n",
      "\n",
      "\u001b[32m***** Suggested tool call (call_dZ47xsNPw3SCq0GOfuVEiRSp): query_database_sec *****\u001b[0m\n",
      "Arguments: \n",
      "{\"question\":\"What is the revenue breakdown of Meta for the fiscal year 2023?\",\"sec_form_name\":\"10-K\"}\n",
      "\u001b[32m***********************************************************************************\u001b[0m\n",
      "\n",
      "--------------------------------------------------------------------------------\n",
      "\u001b[35m\n",
      ">>>>>>>> EXECUTING FUNCTION query_database_sec...\u001b[0m\n",
      "\u001b[33mTool Proxy\u001b[0m (to Planner Admin):\n",
      "\n",
      "\u001b[33mTool Proxy\u001b[0m (to Planner Admin):\n",
      "\n",
      "\u001b[32m***** Response from calling tool (call_dZ47xsNPw3SCq0GOfuVEiRSp) *****\u001b[0m\n",
      "FINANCIAL_STATEMENTS: and data used to determine the amount of the federal tax liability recognized and tested the mathematical accuracy of the underlying data and calculations. We also evaluated the appropriateness of the related disclosures included in Note 15 to the consolidated financial statements in relation to these matters. We have served as the Company's auditor since 2007. We have audited Meta Platforms, Inc.'s internal control over financial reporting as of December 31, 2023, based on criteria established in Internal or retrospectively. We do not expect the adoption of this guidance to have a material impact on our consolidated financial statements. Revenue disaggregated by revenue source and by segment consists of the following (in millions): Revenue disaggregated by geography, based on the addresses of our customers, consists of the following (in millions): United States revenue was $49.78 billion, $47.20 billion, and $48.38 billion for the years ended December 31, 2023, 2022, and 2021, respectively. China revenue\n",
      "\n",
      "MANAGEMENT_DISCUSSION: Our financial results and key community metrics for 2023 are set forth below. Our total revenue for 2023 was $134.90 billion, an increase of 16% compared to 2022, due to an increase in advertising revenue. Revenue on a constant currency basis would have increased 15% compared to 2022. Ad impressions delivered across our Family of Apps increased 28% year-over-year in 2023, partially offset by a 9% year-over-year decrease in the average price per ad. Income from operations for 2023 was $46.75 billion, an human resources, corporate communications and policy, and other administrative employees; other taxes, such as digital services taxes and other non-income-based tax levies; professional services and restructuring charges. In this section, we discuss the results of our operations for the year ended December 31, 2023 compared to the year ended December 31, 2022. For a discussion of the year ended December 31, 2022 compared to the year ended December 31, 2021, please refer to Part II, Item 7, \"Management's\n",
      "\n",
      "MANAGEMENT: Our financial results and key community metrics for 2023 are set forth below. Our total revenue for 2023 was $134.90 billion, an increase of 16% compared to 2022, due to an increase in advertising revenue. Revenue on a constant currency basis would have increased 15% compared to 2022. Ad impressions delivered across our Family of Apps increased 28% year-over-year in 2023, partially offset by a 9% year-over-year decrease in the average price per ad. Income from operations for 2023 was $46.75 billion, an\n",
      "\n",
      "\n",
      "\u001b[32m**********************************************************************\u001b[0m\n",
      "\n",
      "--------------------------------------------------------------------------------\n",
      "\u001b[33mPlanner Admin\u001b[0m (to Tool Proxy):\n",
      "\n",
      "For the fiscal year 2023, Meta reported a total revenue of $134.90 billion, which was a 16% increase compared to the previous year. This growth was largely driven by an increase in advertising revenue. Specifically, ad impressions delivered across Meta's family of apps rose by 28% year-over-year, despite a 9% fall in the average price per ad.\n",
      "\n",
      "The revenue breakdown by geography is as follows:\n",
      "- United States: $49.78 billion\n",
      "- China: (additional data might be required for full details)\n",
      "\n",
      "This data shows a significant portion of Meta's revenue continues to derive from the United States.\n",
      "\n",
      "--------------------------------------------------------------------------------\n",
      "\u001b[33mTool Proxy\u001b[0m (to Planner Admin):\n",
      "\n",
      "Please select the right database.\n",
      "\n",
      "--------------------------------------------------------------------------------\n"
     ]
    }
   ],
   "source": [
    "chat_result = user_proxy.initiate_chat(\n",
    "    recipient=tool_proxy,\n",
    "    message=\"What is the revenue breakdown of Meta for the fiscal year 2023?\",\n",
    "    max_turns=3\n",
    ")"
   ]
  },
  {
   "cell_type": "code",
   "execution_count": 180,
   "metadata": {},
   "outputs": [
    {
     "data": {
      "text/plain": [
       "{'tool_calls': [{'id': 'call_dZ47xsNPw3SCq0GOfuVEiRSp',\n",
       "   'function': {'arguments': '{\"question\":\"What is the revenue breakdown of Meta for the fiscal year 2023?\",\"sec_form_name\":\"10-K\"}',\n",
       "    'name': 'query_database_sec'},\n",
       "   'type': 'function'}],\n",
       " 'content': None,\n",
       " 'role': 'assistant'}"
      ]
     },
     "execution_count": 180,
     "metadata": {},
     "output_type": "execute_result"
    }
   ],
   "source": [
    "chat_result.chat_history[-4]"
   ]
  },
  {
   "cell_type": "code",
   "execution_count": 181,
   "metadata": {},
   "outputs": [
    {
     "name": "stdout",
     "output_type": "stream",
     "text": [
      "\u001b[33mPlanner Admin\u001b[0m (to Tool Proxy):\n",
      "\n",
      "What was the spending on AI by Meta?\n",
      "\n",
      "--------------------------------------------------------------------------------\n",
      "\u001b[33mTool Proxy\u001b[0m (to Planner Admin):\n",
      "\n",
      "Please select the right database.\n",
      "\n",
      "--------------------------------------------------------------------------------\n"
     ]
    },
    {
     "name": "stdout",
     "output_type": "stream",
     "text": [
      "\u001b[33mPlanner Admin\u001b[0m (to Tool Proxy):\n",
      "\n",
      "To find specific financial details about Meta's spending on AI, I can query the SEC filings database for their latest annual or quarterly report. Which report would you prefer to check? The most recent annual (10-K) or a specific quarterly (10-Q1, 10-Q2, 10-Q3) report?\n",
      "\n",
      "--------------------------------------------------------------------------------\n",
      "\u001b[33mTool Proxy\u001b[0m (to Planner Admin):\n",
      "\n",
      "Please select the right database.\n",
      "\n",
      "--------------------------------------------------------------------------------\n",
      "\u001b[33mPlanner Admin\u001b[0m (to Tool Proxy):\n",
      "\n",
      "\u001b[32m***** Suggested tool call (call_NSXBztaESerVKRnYdt155ppp): query_database_sec *****\u001b[0m\n",
      "Arguments: \n",
      "{\"question\":\"What was the spending on AI by Meta?\",\"sec_form_name\":\"10-K\"}\n",
      "\u001b[32m***********************************************************************************\u001b[0m\n",
      "\n",
      "--------------------------------------------------------------------------------\n",
      "\u001b[35m\n",
      ">>>>>>>> EXECUTING FUNCTION query_database_sec...\u001b[0m\n",
      "\u001b[33mTool Proxy\u001b[0m (to Planner Admin):\n",
      "\n",
      "\u001b[33mTool Proxy\u001b[0m (to Planner Admin):\n",
      "\n",
      "\u001b[32m***** Response from calling tool (call_NSXBztaESerVKRnYdt155ppp) *****\u001b[0m\n",
      "BUSINESS: services. We are also making significant investments in our metaverse efforts, including developing virtual and augmented reality devices, software for social platforms, neural interfaces, and other foundational technologies. Our total RL investments were $18.02 billion in 2023 and include expenses relating to headcount and technology development across these efforts. These are fundamentally new technologies that we expect will evolve as the metaverse ecosystem develops, and many products for the metaverse and virtual reality to help build the metaverse, which we believe is the next evolution in social technology. Our vision for the metaverse does not center on any single product, but rather an entire ecosystem of experiences, devices, and new technologies. While the metaverse is in the very early stages of its development, we believe it will become the next computing platform and the future of social interaction. Across our work, we are innovating in artificial intelligence (AI) technologies to build new our apps. In general, while all of these investments are part of our long-term initiative to help build the metaverse, our VR and social platform efforts also include notable shorter-term projects developing specific products and services to go to market, whereas our AR efforts are primarily directed toward longer-term research and development projects. For example, in 2024, we expect to spend approximately 50% of our Reality Labs operating expenses on our AR initiatives, approximately 40% on our VR\n",
      "\n",
      "MANAGEMENT_DISCUSSION: content across our products, enhance our advertising tools, develop new products, and develop new features for existing products using generative AI. We are also making significant investments in our metaverse efforts, including developing virtual, augmented, and mixed reality devices, software for social platforms, neural interfaces, and other foundational technologies for the metaverse. Our RL investments include expenses relating to technology development across these efforts. Many of our RL investments\n",
      "\n",
      "MANAGEMENT: content across our products, enhance our advertising tools, develop new products, and develop new features for existing products using generative AI. We are also making significant investments in our metaverse efforts, including developing virtual, augmented, and mixed reality devices, software for social platforms, neural interfaces, and other foundational technologies for the metaverse. Our RL investments include expenses relating to technology development across these efforts. Many of our RL investments\n",
      "\n",
      "\n",
      "\u001b[32m**********************************************************************\u001b[0m\n",
      "\n",
      "--------------------------------------------------------------------------------\n",
      "\u001b[33mPlanner Admin\u001b[0m (to Tool Proxy):\n",
      "\n",
      "Meta's spending on AI and related technological investments for 2023 was substantial. They reported spending $18.02 billion on Reality Labs (RL) investments, which includes their significant efforts in developing virtual and augmented reality devices, software for social platforms, neural interfaces, and other foundational technologies for their long-term metaverse initiatives. These investments also encompass AI technologies fundamental to the development and enhancement of their apps and the broader ecosystem they are building.\n",
      "\n",
      "--------------------------------------------------------------------------------\n",
      "\u001b[33mTool Proxy\u001b[0m (to Planner Admin):\n",
      "\n",
      "Please select the right database.\n",
      "\n",
      "--------------------------------------------------------------------------------\n",
      "\u001b[33mPlanner Admin\u001b[0m (to Tool Proxy):\n",
      "\n",
      "TERMINATE\n",
      "\n",
      "--------------------------------------------------------------------------------\n"
     ]
    }
   ],
   "source": [
    "chat_result = user_proxy.initiate_chat(\n",
    "    recipient=tool_proxy,\n",
    "    message=\"What was the spending on AI by Meta?\",\n",
    "    max_turns=5\n",
    ")"
   ]
  },
  {
   "cell_type": "code",
   "execution_count": 182,
   "metadata": {},
   "outputs": [
    {
     "name": "stdout",
     "output_type": "stream",
     "text": [
      "\u001b[33mPlanner Admin\u001b[0m (to Tool Proxy):\n",
      "\n",
      "What are the dark sides of valuation of companies?\n",
      "\n",
      "--------------------------------------------------------------------------------\n",
      "\u001b[33mTool Proxy\u001b[0m (to Planner Admin):\n",
      "\n",
      "Please select the right database.\n",
      "\n",
      "--------------------------------------------------------------------------------\n",
      "\u001b[33mPlanner Admin\u001b[0m (to Tool Proxy):\n",
      "\n",
      "\u001b[32m***** Suggested tool call (call_hxfKeMPJ7XuJ933YBJTPvS5s): query_database_books *****\u001b[0m\n",
      "Arguments: \n",
      "{\"question\":\"What are the dark sides of valuation of companies?\"}\n",
      "\u001b[32m*************************************************************************************\u001b[0m\n",
      "\n",
      "--------------------------------------------------------------------------------\n",
      "\u001b[35m\n",
      ">>>>>>>> EXECUTING FUNCTION query_database_books...\u001b[0m\n",
      "\u001b[33mTool Proxy\u001b[0m (to Planner Admin):\n",
      "\n",
      "\u001b[33mTool Proxy\u001b[0m (to Planner Admin):\n",
      "\n",
      "\u001b[32m***** Response from calling tool (call_hxfKeMPJ7XuJ933YBJTPvS5s) *****\u001b[0m\n",
      "T hroughout this book, we have emphasized the importance of first principles in valuation and how they should guide us when we're faced with estimation questions and issues. The dark side of valuation, as we have described it, takes different forms with different types of firms. The remedies we offer also vary with each type. This chapter pulls together some of the core ideas that allow us to combat the pull of the dark side. In the process, we quickly review the foundations of what we would like to portray as the enlightened side of valuation.\n",
      "\n",
      "When confronted with estimation challenges, analysts have one of two choices. The healthy response is to confront the challenge and adapt existing models to reflect the differences in the company being valued. The more common response is to bend the rules of valuation and use shortcuts to justify whatever price they are predisposed to pay for the company. The latter approach is \"the dark side of valuation.\" This section looks at its many manifestations.\n",
      "\n",
      "The dark side of valuation manifests itself less often with mature companies than with growth or declining companies, but it still shows up with surprising frequency. This section looks at some of ways in which maturecompany valuations are skewed by inconsistent or unrealistic assumptions.\n",
      "\n",
      "We end this book how we began it—by noting that valuation has only a few first principles, and that the basic structure of valuation has not changed much over time. However, the kinds of firms we are called on to value pose more challenges today than ever before. As firms and investors globalize, companies have become more complex in terms of both their operations and the financing choices they make to fund those operations.  \n",
      "When called on to value companies, we should recognize that rigid rules do not serve us well, because valuing individual companies requires us to be flexible and devise new rules when faced with unusual scenarios. Rather than let estimation issues overwhelm us and force us into bad choices, we should step back and assess commonsense ways, constrained by the data we have available, to deal with difficult issues.\n",
      "\n",
      "The issues we face in valuing declining companies come from their common characteristics. Most of the valuation techniques we use for businesses, whether intrinsic or relative, are built for healthy firms with positive growth.  \n",
      "Sometimes they break down when a firm is expected to shrink over time or if distress is imminent.\n",
      "\n",
      "\n",
      "\u001b[32m**********************************************************************\u001b[0m\n",
      "\n",
      "--------------------------------------------------------------------------------\n",
      "\u001b[33mPlanner Admin\u001b[0m (to Tool Proxy):\n",
      "\n",
      "The \"dark side\" of company valuation is highlighted through the tendencies and challenges that analysts might face when valuing companies, particularly when they move away from standard methodologies to justify preconceived valuations. Here are the key points on this topic:\n",
      "\n",
      "1. **Reaction to Estimation Challenges**:\n",
      "   - Healthy response: Adapting models to reflect true company value despite difficulties.\n",
      "   - Common response: Manipulating or simplifying valuation models to support a desired price, often influenced by biases or external pressures.\n",
      "\n",
      "2. **Manifestations in Different Types of Companies**:\n",
      "   - Growth or declining companies often face more pronounced valuation issues due to their volatile and uncertain nature.\n",
      "   - Even mature companies, though less frequently, can experience skewed valuations due to inconsistent or unrealistic assumptions.\n",
      "\n",
      "3. **Challenges with Changing Business Landscapes**:\n",
      "   - Increasing complex in operations and financing, particularly with globalization, requires more nuanced and adaptable valuation approaches.\n",
      "   - Rigid valuation rules are inadequate; analysts should use flexible, commonsense approaches to handle unusual or challenging scenarios.\n",
      "\n",
      "4. **Special Issues with Declining Companies**:\n",
      "   - Most traditional valuation methods are optimized for growing or stable businesses.\n",
      "   - When companies are expected to shrink or face distress, these methods may break down, necessitating alternative approaches or adjustments.\n",
      "\n",
      "Overall, maintaining a commitment to the principles of sound valuation and adjusting methodologies flexibly in response to specific company circumstances are essential to avoid the pitfalls of the \"dark side\" of valuation.\n",
      "\n",
      "--------------------------------------------------------------------------------\n",
      "\u001b[33mTool Proxy\u001b[0m (to Planner Admin):\n",
      "\n",
      "Please select the right database.\n",
      "\n",
      "--------------------------------------------------------------------------------\n",
      "\u001b[33mPlanner Admin\u001b[0m (to Tool Proxy):\n",
      "\n",
      "TERMINATE\n",
      "\n",
      "--------------------------------------------------------------------------------\n"
     ]
    }
   ],
   "source": [
    "chat_result = user_proxy.initiate_chat(\n",
    "    recipient=tool_proxy,\n",
    "    message=\"What are the dark sides of valuation of companies?\",\n",
    "    max_turns=5\n",
    ")"
   ]
  },
  {
   "cell_type": "code",
   "execution_count": 183,
   "metadata": {},
   "outputs": [
    {
     "name": "stdout",
     "output_type": "stream",
     "text": [
      "\u001b[33mPlanner Admin\u001b[0m (to Tool Proxy):\n",
      "\n",
      "What did Mark Zuckerberg say about the future investments of the company?\n",
      "\n",
      "--------------------------------------------------------------------------------\n",
      "\u001b[33mTool Proxy\u001b[0m (to Planner Admin):\n",
      "\n",
      "Please select the right database.\n",
      "\n",
      "--------------------------------------------------------------------------------\n",
      "\u001b[33mPlanner Admin\u001b[0m (to Tool Proxy):\n",
      "\n",
      "To find out what Mark Zuckerberg said about future investments of the company, I will check the most recent earnings call. This is typically where executives discuss strategies and future investment plans.\n",
      "\u001b[32m***** Suggested tool call (call_nVIOQ6Doe95EZaXZJR8Bb8ms): query_database_earnings_call *****\u001b[0m\n",
      "Arguments: \n",
      "{\"question\":\"What did Mark Zuckerberg say about the future investments of the company?\",\"quarter\":\"Q3\"}\n",
      "\u001b[32m*********************************************************************************************\u001b[0m\n",
      "\n",
      "--------------------------------------------------------------------------------\n",
      "\u001b[35m\n",
      ">>>>>>>> EXECUTING FUNCTION query_database_earnings_call...\u001b[0m\n",
      "\u001b[33mTool Proxy\u001b[0m (to Planner Admin):\n",
      "\n",
      "\u001b[33mTool Proxy\u001b[0m (to Planner Admin):\n",
      "\n",
      "\u001b[32m***** Response from calling tool (call_nVIOQ6Doe95EZaXZJR8Bb8ms) *****\u001b[0m\n",
      "Mark Zuckerberg: with our progress on efficiency this year. We're a leaner organization, shipping faster and advancing the state-of-the-art in all of our long-term initiatives. And while investing heavily for the future, we also just recorded our highest operating margin in two years. So I'm looking forward to carrying this product momentum and operating discipline forward. As always, thank you to everyone on our team and all of you who are on this journey with us. And now, here's Susan. products to more people. But over time, we're going to continue working on that. And I think we've been able to do pretty good work on efficiency on our hardware and compute. And over the long term, once we kind of have more of an understanding about what these products want to be, then we'll be able to drive the economic model based on that. But we'll work on that all throughout, but I think we're still in the pretty early part of that curve. the next major pillar of our business. There are more than 600 million conversations between people and businesses every day on our platforms. To give you a sense of what this could look like when it's scaled globally, every week now, more than 60% of people on WhatsApp in India message a business app account. A revenue from click to message ads in India has doubled year-over-year. Now I think that this is going to be a really big opportunity for new business AIs that I talked about earlier that we hope this way. But in lots of parts of the world, the cost of labor is too expensive for this to be viable. But with business AIs, we have the opportunity to bring down that cost and expand commerce and messaging into larger economies across the world. So making business AIs work for more businesses is going to be an important focus for us into 2024. I want to give a quick update on Threads. We're three months in now, and I'm very happy with the trajectory. There are just under 100 million monthly actives at so we think that there's a benefit there. And sometimes, more companies running models or infrastructure can make it run more efficiently, which helps reduce our costs as well, which is something that we've seen with open compute. So I think there's a good chance that, that happens here over time. And obviously, our CapEx expenses are a big driver of our costs, so any aid in innovating on efficiency is sort of a big thing there. The other piece is just that over time with our AI efforts, we've tried to\n",
      "\n",
      "\n",
      "\u001b[32m**********************************************************************\u001b[0m\n",
      "\n",
      "--------------------------------------------------------------------------------\n",
      "\u001b[33mPlanner Admin\u001b[0m (to Tool Proxy):\n",
      "\n",
      "Mark Zuckerberg discussed several key points about the future investments of the company during the Q3 earnings call:\n",
      "\n",
      "1. **Efficiency and Innovation:** Zuckerberg highlighted the company's progress in becoming a leaner organization that is shipping faster and advancing in its long-term initiatives.\n",
      "\n",
      "2. **Financial Discipline:** He noted that the company has achieved its highest operating margin in two years, indicating a focus on maintaining financial discipline while continuing to invest heavily for the future.\n",
      "\n",
      "3. **Future Vision:** Zuckerberg expressed a commitment to continuing work on hardware and computing efficiency. He acknowledged that they are still in the early stages of understanding the economic models for their products but are focused on improving efficiency throughout this process.\n",
      "\n",
      "4. **Expansion of Messaging and AI:** One significant focus for future investment is in expanding business AI and messaging capabilities. Zuckerberg discussed the huge potential in commerce facilitated by AI, particularly in messaging, and expressed the company’s plans to drive this expansion into larger economies across the world in 2024.\n",
      "\n",
      "5. **Development of Platforms like Threads:** He provided an update on Threads, noting its promising growth trajectory with nearly 100 million monthly active users, indicating ongoing investment and focus in this area.\n",
      "\n",
      "Overall, Zuckerberg's remarks outlined a strategy focused on innovation, operational efficiency, and the expansion of AI and messaging capabilities as major pillars for future investment.\n",
      "\n",
      "--------------------------------------------------------------------------------\n",
      "\u001b[33mTool Proxy\u001b[0m (to Planner Admin):\n",
      "\n",
      "Please select the right database.\n",
      "\n",
      "--------------------------------------------------------------------------------\n",
      "\u001b[33mPlanner Admin\u001b[0m (to Tool Proxy):\n",
      "\n",
      "TERMINATE\n",
      "\n",
      "--------------------------------------------------------------------------------\n"
     ]
    }
   ],
   "source": [
    "chat_result = user_proxy.initiate_chat(\n",
    "    recipient=tool_proxy,\n",
    "    message=\"What did Mark Zuckerberg say about the future investments of the company?\",\n",
    "    max_turns=5\n",
    ")"
   ]
  },
  {
   "cell_type": "code",
   "execution_count": 189,
   "metadata": {},
   "outputs": [
    {
     "name": "stdout",
     "output_type": "stream",
     "text": [
      "What did Mark Zuckerberg say about the future investments of the company?\n",
      "To find out what Mark Zuckerberg said about future investments of the company, I will check the most recent earnings call. This is typically where executives discuss strategies and future investment plans.\n",
      "Mark Zuckerberg discussed several key points about the future investments of the company during the Q3 earnings call:\n",
      "\n",
      "1. **Efficiency and Innovation:** Zuckerberg highlighted the company's progress in becoming a leaner organization that is shipping faster and advancing in its long-term initiatives.\n",
      "\n",
      "2. **Financial Discipline:** He noted that the company has achieved its highest operating margin in two years, indicating a focus on maintaining financial discipline while continuing to invest heavily for the future.\n",
      "\n",
      "3. **Future Vision:** Zuckerberg expressed a commitment to continuing work on hardware and computing efficiency. He acknowledged that they are still in the early stages of understanding the economic models for their products but are focused on improving efficiency throughout this process.\n",
      "\n",
      "4. **Expansion of Messaging and AI:** One significant focus for future investment is in expanding business AI and messaging capabilities. Zuckerberg discussed the huge potential in commerce facilitated by AI, particularly in messaging, and expressed the company’s plans to drive this expansion into larger economies across the world in 2024.\n",
      "\n",
      "5. **Development of Platforms like Threads:** He provided an update on Threads, noting its promising growth trajectory with nearly 100 million monthly active users, indicating ongoing investment and focus in this area.\n",
      "\n",
      "Overall, Zuckerberg's remarks outlined a strategy focused on innovation, operational efficiency, and the expansion of AI and messaging capabilities as major pillars for future investment.\n",
      "TERMINATE\n"
     ]
    }
   ],
   "source": [
    "for ct in chat_result.chat_history:\n",
    "    if ct['role'] == 'assistant':\n",
    "        print(ct['content'])"
   ]
  },
  {
   "cell_type": "code",
   "execution_count": 192,
   "metadata": {},
   "outputs": [
    {
     "data": {
      "text/plain": [
       "{'content': 'To find out what Mark Zuckerberg said about future investments of the company, I will check the most recent earnings call. This is typically where executives discuss strategies and future investment plans.',\n",
       " 'tool_calls': [{'id': 'call_nVIOQ6Doe95EZaXZJR8Bb8ms',\n",
       "   'function': {'arguments': '{\"question\":\"What did Mark Zuckerberg say about the future investments of the company?\",\"quarter\":\"Q3\"}',\n",
       "    'name': 'query_database_earnings_call'},\n",
       "   'type': 'function'}],\n",
       " 'role': 'assistant'}"
      ]
     },
     "execution_count": 192,
     "metadata": {},
     "output_type": "execute_result"
    }
   ],
   "source": [
    "\n",
    "chat_result.chat_history[2]"
   ]
  },
  {
   "cell_type": "code",
   "execution_count": null,
   "metadata": {},
   "outputs": [],
   "source": []
  }
 ],
 "metadata": {
  "kernelspec": {
   "display_name": ".venv",
   "language": "python",
   "name": "python3"
  },
  "language_info": {
   "codemirror_mode": {
    "name": "ipython",
    "version": 3
   },
   "file_extension": ".py",
   "mimetype": "text/x-python",
   "name": "python",
   "nbconvert_exporter": "python",
   "pygments_lexer": "ipython3",
   "version": "3.10.12"
  }
 },
 "nbformat": 4,
 "nbformat_minor": 2
}
