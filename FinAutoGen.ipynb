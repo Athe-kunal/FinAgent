{
 "cells": [
  {
   "cell_type": "code",
   "execution_count": 1,
   "metadata": {},
   "outputs": [],
   "source": [
    "from data_source.vectorDatabaseChroma import create_database\n",
    "%load_ext autoreload\n",
    "%autoreload 2"
   ]
  },
  {
   "cell_type": "code",
   "execution_count": 2,
   "metadata": {},
   "outputs": [
    {
     "name": "stderr",
     "output_type": "stream",
     "text": [
      "/home/athekunal/Finance Data/.venv/lib/python3.10/site-packages/tqdm/auto.py:21: TqdmWarning: IProgress not found. Please update jupyter and ipywidgets. See https://ipywidgets.readthedocs.io/en/stable/user_install.html\n",
      "  from .autonotebook import tqdm as notebook_tqdm\n",
      "/home/athekunal/Finance Data/.venv/lib/python3.10/site-packages/huggingface_hub/file_download.py:1132: FutureWarning: `resume_download` is deprecated and will be removed in version 1.0.0. Downloads always resume when possible. If you want to force a new download, use `force_download=True`.\n",
      "  warnings.warn(\n",
      "/home/athekunal/Finance Data/.venv/lib/python3.10/site-packages/torch/cuda/__init__.py:118: UserWarning: CUDA initialization: The NVIDIA driver on your system is too old (found version 11060). Please update your GPU driver by downloading and installing a new version from the URL: http://www.nvidia.com/Download/index.aspx Alternatively, go to: https://pytorch.org to install a PyTorch version that has been compiled with your version of the CUDA driver. (Triggered internally at ../c10/cuda/CUDAFunctions.cpp:108.)\n",
      "  return torch._C._cuda_getDeviceCount() > 0\n"
     ]
    },
    {
     "name": "stdout",
     "output_type": "stream",
     "text": [
      "Earnings Call Q1\n",
      "Earnings Call Q2\n",
      "Earnings Call Q3\n",
      "Earnings Call Q4\n",
      "SEC\n",
      "Started Scraping\n",
      "Scraped\n",
      "Started Extracting\n",
      "Extracted\n"
     ]
    }
   ],
   "source": [
    "chromadb,speakers_list_1,speakers_list_2,speakers_list_3,speakers_list_4,sec_form_names,earnings_call_quarter_vals = create_database(\"NVDA\",\"2024\",embed_type=\"sentence_transformer\")"
   ]
  },
  {
   "cell_type": "code",
   "execution_count": 3,
   "metadata": {},
   "outputs": [
    {
     "name": "stderr",
     "output_type": "stream",
     "text": [
      "/home/athekunal/Finance Data/.venv/lib/python3.10/site-packages/huggingface_hub/file_download.py:1132: FutureWarning: `resume_download` is deprecated and will be removed in version 1.0.0. Downloads always resume when possible. If you want to force a new download, use `force_download=True`.\n",
      "  warnings.warn(\n"
     ]
    }
   ],
   "source": [
    "chromadb,speakers_list_1,speakers_list_2,speakers_list_3,speakers_list_4,sec_form_names,earnings_call_quarter_vals = create_database(\"NVDA\",\"2024\",embed_type=\"sentence_transformer\")"
   ]
  },
  {
   "cell_type": "code",
   "execution_count": 12,
   "metadata": {},
   "outputs": [
    {
     "data": {
      "text/plain": [
       "[Document(page_content='Thanks, Simona. Q3 was another record quarter. Revenue of $18.1 billion was up 34% sequentially and up more than 200% year-on-year and well above our outlook for $16 billion. Starting with Data Center. The continued ramp of the NVIDIA HGX platform based on our Hopper Tensor Core GPU architecture, along with InfiniBand end-to-end networking, drove record revenue of $14.5 billion, up 41% sequentially and up 279% year-on-year. NVIDIA HGX with InfiniBand together are essentially the reference architecture for', metadata={'quarter': 'Q3', 'speaker': 'Colette Kress'}),\n",
       " Document(page_content=\"financial results for the second quarter of fiscal 2024. The content of today's call is NVIDIA's property. It can't be reproduced or transcribed without our prior written consent. During this call, we may make forward-looking statements based on current expectations. These are subject to a number of significant risks and uncertainties and our actual results may differ materially. For a discussion of factors that could affect our future financial results and business, please refer to the disclosure in\", metadata={'quarter': 'Q1', 'speaker': 'Simona Jankowski'}),\n",
       " Document(page_content=\"per GPU per year. And my guess is that every enterprise in the world, every software enterprise company that are deploying software in all the clouds and private clouds and on-prem, will run on NVIDIA AI Enterprise, especially obviously for our GPUs. And so this is going to likely be a very significant business over time. We're off to a great start. And Colette mentioned that it's already at $1 billion run rate and we're really just getting started.\", metadata={'quarter': 'Q4', 'speaker': 'Jensen Huang'}),\n",
       " Document(page_content=\"our financial results for the third quarter of fiscal 2024. The content of today's call is NVIDIA's property. It can't be reproduced or transcribed without our prior written consent. During this call, we may make forward-looking statements based on current expectations. These are subject to a number of significant risks and uncertainties, and our actual results may differ materially. For a discussion of factors that could affect our future financial results and business, please refer to the disclosure in\", metadata={'quarter': 'Q2', 'speaker': 'Simona Jankowski'}),\n",
       " Document(page_content=\"our financial results for the fourth quarter and fiscal 2024. The content of today's call is NVIDIA's property. It can't be reproduced or transcribed without our prior written consent. During this call, we may make forward-looking statements based on current expectations. These are subject to a number of significant risks and uncertainties and our actual results may differ materially. For a discussion of factors that could affect our future financial results and business, please refer to the disclosure in\", metadata={'quarter': 'Q3', 'speaker': 'Simona Jankowski'})]"
      ]
     },
     "execution_count": 12,
     "metadata": {},
     "output_type": "execute_result"
    }
   ],
   "source": [
    "chromadb.similarity_search(\"What is the revenue breakdown of Nvidia?\",k=5)"
   ]
  },
  {
   "cell_type": "code",
   "execution_count": 19,
   "metadata": {},
   "outputs": [
    {
     "data": {
      "text/plain": [
       "[Document(page_content='Financial Statements included in our Annual Report on Form 10-K for the fiscal year ended January\\xa028, 2024. We operate on a 52- or 53-week year, ending on the last Sunday in January. Fiscal years 2025 and 2024 are both 52-week years. The first quarters of fiscal years 2025 and 2024 were both 13-week quarters. Our condensed consolidated financial statements include the accounts of NVIDIA Corporation and our wholly-owned subsidiaries. All intercompany balances and transactions have been eliminated in', metadata={'accessionNumber': '000104581024000124', 'filingDate': '2024-05-29', 'filing_type': '10-Q2', 'reportDate': '2024-04-28', 'sectionName': 'FINANCIAL_STATEMENTS'}),\n",
       " Document(page_content='in privately negotiated transactions, pursuant to a Rule 10b5-1 trading plan or in structured share repurchase programs, and can be made in one or more larger repurchases, in compliance with Rule 10b-18 of the Exchange Act, subject to market conditions, applicable legal requirements, and other factors. The program does not obligate NVIDIA to acquire any particular amount of common stock and the program may be suspended at any time at our discretion. In the first quarter of fiscal year 2025, we paid $98', metadata={'accessionNumber': '000104581024000124', 'filingDate': '2024-05-29', 'filing_type': '10-Q2', 'reportDate': '2024-04-28', 'sectionName': 'USE_OF_PROCEEDS'}),\n",
       " Document(page_content='and may continue to increase as our purchase obligations and prepaids have grown and are expected to continue to grow and become a greater portion of our total supply. All of these factors may negatively impact our gross margins and financial results. We build technology and introduce products for new and innovative use cases and applications, such as NVIDIA DGX Cloud services, NVIDIA AI Foundations, Omniverse platform, LLMs, and generative AI models. Our demand estimates for new use cases, applications,', metadata={'accessionNumber': '000104581024000124', 'filingDate': '2024-05-29', 'filing_type': '10-Q2', 'reportDate': '2024-04-28', 'sectionName': 'RISK_FACTORS'}),\n",
       " Document(page_content='profits from the sale of NVIDIA stock and reform of unspecified corporate governance measures. This derivative matter is stayed pending the final resolution of In Re NVIDIA Corporation Securities Litigation action. As of April\\xa028, 2024, there are no accrued contingent liabilities associated with the legal proceedings described above based on our belief that liabilities, while possible, are not probable. Further, except as described above, any possible loss or range of loss in these matters cannot be', metadata={'accessionNumber': '000104581024000124', 'filingDate': '2024-05-29', 'filing_type': '10-Q2', 'reportDate': '2024-04-28', 'sectionName': 'FINANCIAL_STATEMENTS'}),\n",
       " Document(page_content='Other than the risk factors listed below, there have been no material changes from the risk factors previously described under Item 1A of our Annual Report on Form 10-K for the fiscal year ended January\\xa028, 2024. Purchasing or owning NVIDIA common stock involves investment risks including, but not limited to, the risks described in Item 1A of our Annual Report on Form 10-K for the fiscal year ended January\\xa028, 2024, and below. Any one of those risks could harm our business, financial condition and results', metadata={'accessionNumber': '000104581024000124', 'filingDate': '2024-05-29', 'filing_type': '10-Q2', 'reportDate': '2024-04-28', 'sectionName': 'RISK_FACTORS'})]"
      ]
     },
     "execution_count": 19,
     "metadata": {},
     "output_type": "execute_result"
    }
   ],
   "source": [
    "chromadb.similarity_search(\"What is the revenue breakdown of Nvidia?\",k=5,filter={\n",
    "        \"filing_type\":{\"$eq\":\"10-Q2\"}\n",
    "    })"
   ]
  },
  {
   "cell_type": "code",
   "execution_count": 16,
   "metadata": {},
   "outputs": [],
   "source": [
    "q = chromadb.get(\n",
    "    where={\n",
    "        \"filing_type\":{\"$eq\":\"10-Q2\"}\n",
    "    }\n",
    ")"
   ]
  },
  {
   "cell_type": "code",
   "execution_count": 18,
   "metadata": {},
   "outputs": [
    {
     "data": {
      "text/plain": [
       "{'accessionNumber': '000104581024000124',\n",
       " 'filingDate': '2024-05-29',\n",
       " 'filing_type': '10-Q2',\n",
       " 'reportDate': '2024-04-28',\n",
       " 'sectionName': 'RISK_FACTORS'}"
      ]
     },
     "execution_count": 18,
     "metadata": {},
     "output_type": "execute_result"
    }
   ],
   "source": [
    "q['metadatas'][0]"
   ]
  },
  {
   "cell_type": "code",
   "execution_count": 20,
   "metadata": {},
   "outputs": [],
   "source": [
    "quarter_speaker_dict = {\n",
    "    \"Q1\":speakers_list_1,\n",
    "    \"Q2\":speakers_list_2,\n",
    "    \"Q3\":speakers_list_3,\n",
    "    \"Q4\":speakers_list_4\n",
    "}"
   ]
  },
  {
   "cell_type": "code",
   "execution_count": 27,
   "metadata": {},
   "outputs": [],
   "source": [
    "from typing import Annotated\n",
    "def query_database_earnings_call(\n",
    "        question = Annotated[str,\"Question to query the database for relevant documents\"],\n",
    "        quarter = Annotated[str,\"the financial quarter that is discussed in the question and possible options are Q1, Q2, Q3, Q4\"],\n",
    "):\n",
    "    assert quarter in earnings_call_quarter_vals, \"The quarter should be from Q1, Q2, Q3, Q4\"\n",
    "    \n",
    "    req_speaker_list = []\n",
    "    quarter_speaker_list = quarter_speaker_dict[quarter]\n",
    "\n",
    "    for sl in quarter_speaker_list:\n",
    "        if sl in question or sl.lower() in question:\n",
    "            req_speaker_list.append(sl)\n",
    "    if len(req_speaker_list) == 0:\n",
    "        req_speaker_list = quarter_speaker_list\n",
    "    \n",
    "    relevant_docs = chromadb.similarity_search(\n",
    "        question,\n",
    "        k=5,\n",
    "        filter={\n",
    "            \"$and\":[\n",
    "                {\n",
    "                    \"quarter\":{\"$eq\":quarter}\n",
    "                },\n",
    "                {\n",
    "                    \"speaker\":{\"$in\":req_speaker_list}\n",
    "                }\n",
    "            ]\n",
    "        }\n",
    "    )\n",
    "\n",
    "    speaker_releavnt_dict = {}\n",
    "    for doc in relevant_docs:\n",
    "        speaker = doc.metadata['speaker']\n",
    "        speaker_text = doc.page_content\n",
    "        if speaker not in speaker_releavnt_dict:\n",
    "            speaker_releavnt_dict[speaker] = speaker_text\n",
    "        else:\n",
    "            speaker_releavnt_dict[speaker] += \" \"+speaker_text\n",
    "    \n",
    "    relevant_speaker_text = \"\"\n",
    "    for speaker, text in speaker_releavnt_dict.items():\n",
    "        relevant_speaker_text += speaker + \": \"\n",
    "        relevant_speaker_text += text + \"\\n\\n\"\n",
    "\n",
    "    return relevant_speaker_text\n"
   ]
  },
  {
   "cell_type": "code",
   "execution_count": 31,
   "metadata": {},
   "outputs": [],
   "source": [
    "val = query_database_earnings_call(\n",
    "    \"Revenue breakdown\",\n",
    "    \"Q4\"\n",
    ")"
   ]
  },
  {
   "cell_type": "code",
   "execution_count": 32,
   "metadata": {},
   "outputs": [
    {
     "name": "stdout",
     "output_type": "stream",
     "text": [
      "Colette Kress: we returned $2.8 billion to shareholders in the form of share repurchases and cash dividends. During fiscal year '24, we utilized cash of $9.9 billion towards shareholder returns, including $9.5 billion in share repurchases. Let me turn to the outlook for the first quarter. Total revenue is expected to be $24 billion, plus or minus 2%. We expect sequential growth in data center and proviz, partially offset by seasonal decline in gaming. GAAP and non-GAAP gross margins are expected to be 76.3% and 77% Thanks, Simona. Q4 was another record quarter. Revenue of $22.1 billion was up 22% sequentially and up to 265% year-on-year and well above our outlook of $20 billion. For fiscal 2024, revenue was $60.9 billion and up 126% from the prior year. Starting with data center. Data center revenue for the fiscal 2024 year was $47.5 billion, more than tripling from the prior year. The world has reached the tipping point of new computing era. The $1 trillion installed base of data center infrastructure is rapidly expenses are expected to grow in the mid-30% range as we continue to invest in the large opportunities ahead of us. GAAP and non-GAAP other income and expenses are expected to be an income of approximately $250 million, excluding gains and losses from non-affiliated investments. GAAP and non-GAAP tax rates are expected to be 17%, plus or minus 1% excluding any discrete items. Further financial details are included in the CFO commentary and other information available on our IR website. In closing, let me announced new vehicles built on NVIDIA. Moving to the rest of the P&L. GAAP gross margins expanded sequentially to 76% and non-GAAP gross margins to 76.7% on strong data center growth and mix. Our gross margins in Q4 benefited from favorable component costs. Sequentially, GAAP operating expenses were up 6% and non-GAAP operating expenses were up 9%, primarily reflecting higher compute and infrastructure investments and employee growth. In Q4, we returned $2.8 billion to shareholders in the form of share\n",
      "\n",
      "Timothy Arcuri: Thanks a lot. I wanted to ask about how you're converting backlog into revenue. Obviously, lead times for your products have come down quite a bit. Colette, you didn't talk about the inventory purchase commitments. But if I sort of add up your inventory plus the purchase commits and your prepaid supply, sort of the aggregate of your supply, it was actually down a touch. How should we read that? Is that just you saying that you don't need to make as much of a financial commitment to your suppliers because\n",
      "\n",
      "\n"
     ]
    }
   ],
   "source": [
    "print(val)"
   ]
  },
  {
   "cell_type": "code",
   "execution_count": 33,
   "metadata": {},
   "outputs": [],
   "source": [
    "def query_database_sec(\n",
    "        question = Annotated[str,\"Question to query the database for relevant documents\"],\n",
    "        sec_form_name = Annotated[str,\"SEC FORM NAME that the question is talking about. It can be 10-K for yearly data and 10-Q for quarterly data. For quarterly data, it can be 10-Q2 to represent Quarter 2 and similarly for other quarters\"]\n",
    "):\n",
    "    assert sec_form_name in sec_form_names, f'The search form type should be in {sec_form_names}'\n",
    "    \n",
    "    relevant_docs = chromadb.similarity_search(\n",
    "        question,\n",
    "        k=5,\n",
    "        filter={\n",
    "            \"filing_type\":{\"$eq\":sec_form_name}\n",
    "        }\n",
    "    )\n",
    "\n",
    "    relevant_section_dict = {}\n",
    "    for doc in relevant_docs:\n",
    "        section = doc.metadata['sectionName']\n",
    "        section_text = doc.page_content\n",
    "        if section not in relevant_section_dict:\n",
    "            relevant_section_dict[section] = section_text\n",
    "        else:\n",
    "            relevant_section_dict[section] += \" \"+section_text\n",
    "    \n",
    "    relevant_section_text = \"\"\n",
    "    for section, text in relevant_section_dict.items():\n",
    "        relevant_section_text += section + \": \"\n",
    "        relevant_section_text += text + \"\\n\\n\"\n",
    "\n",
    "    return relevant_section_text"
   ]
  },
  {
   "cell_type": "code",
   "execution_count": 34,
   "metadata": {},
   "outputs": [
    {
     "data": {
      "text/plain": [
       "\"EXHIBITS: Consolidated Statements of Income for the years ended January 28, 2024, January 29, 2023, and January 30, 2022 The exhibits listed in the accompanying index to exhibits are filed or incorporated by reference as a part of this Annual Report on Form 10-K. We have audited the accompanying consolidated balance sheets of NVIDIA Corporation and its subsidiaries (the “Company”) as of January 28, 2024 and January 29, 2023, and the related consolidated statements of income, comprehensive income, shareholders' equity in April 1993 and reincorporated in Delaware in April 1998. All references to “NVIDIA,” “we,” “us,” “our” or the “Company” mean NVIDIA Corporation and its subsidiaries. We operate on a 52- or 53-week year, ending on the last Sunday in January. Fiscal years 2024, 2023 and 2022 were all 52-week years. Our consolidated financial statements include the accounts of NVIDIA Corporation and our wholly-owned subsidiaries. All intercompany balances and transactions have been eliminated in consolidation. The related to employee stock plans Payments related to repurchases of common stock Payments related to tax on restricted stock units Dividends paid Net cash provided by (used in) financing activities Cash and cash equivalents at beginning of period Cash paid for income taxes, net Cash paid for interest See accompanying notes to the consolidated financial statements. Headquartered in Santa Clara, California, NVIDIA was incorporated in California in April 1993 and reincorporated in Delaware in April 1998. All facts and various other assumptions that we believe are reasonable. We derive our revenue from product sales, including hardware and systems, license and development arrangements, software licensing, and cloud services. We determine revenue recognition through the following steps: (1) identification of the contract with a customer; (2) identification of the performance obligations in the contract; (3) determination of the transaction price; (4) allocation of the transaction price to the performance\\n\\nRISK_FACTORS: have grown and are expected to continue to grow and become a greater portion of our total supply. All of these factors may negatively impact our gross margins and financial results. We build technology and introduce products for new and innovative use cases and applications, such as NVIDIA DGX Cloud services, NVIDIA AI Foundations, Omniverse platform, LLMs, and generative AI models. Our demand estimates for new use cases, applications, and services can be incorrect and create volatility in our revenue or\\n\\n\""
      ]
     },
     "execution_count": 34,
     "metadata": {},
     "output_type": "execute_result"
    }
   ],
   "source": [
    "query_database_sec(\n",
    "    \"What is the revenue breakdown of Nvidia?\",\n",
    "    \"10-K\"\n",
    ")"
   ]
  },
  {
   "cell_type": "code",
   "execution_count": null,
   "metadata": {},
   "outputs": [],
   "source": []
  }
 ],
 "metadata": {
  "kernelspec": {
   "display_name": ".venv",
   "language": "python",
   "name": "python3"
  },
  "language_info": {
   "codemirror_mode": {
    "name": "ipython",
    "version": 3
   },
   "file_extension": ".py",
   "mimetype": "text/x-python",
   "name": "python",
   "nbconvert_exporter": "python",
   "pygments_lexer": "ipython3",
   "version": "3.10.12"
  }
 },
 "nbformat": 4,
 "nbformat_minor": 2
}
