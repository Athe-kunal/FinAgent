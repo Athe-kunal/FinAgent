{
 "cells": [
  {
   "cell_type": "code",
   "execution_count": 4,
   "metadata": {},
   "outputs": [],
   "source": [
    "import argparse\n",
    "import os\n",
    "\n",
    "from marker.convert import convert_single_pdf\n",
    "from marker.logger import configure_logging\n",
    "from marker.models import load_all_models\n",
    "\n",
    "from marker.output import save_markdown"
   ]
  },
  {
   "cell_type": "code",
   "execution_count": 10,
   "metadata": {},
   "outputs": [
    {
     "name": "stderr",
     "output_type": "stream",
     "text": [
      "/home/athekunal/Finance Data/.venv/lib/python3.10/site-packages/huggingface_hub/file_download.py:1132: FutureWarning: `resume_download` is deprecated and will be removed in version 1.0.0. Downloads always resume when possible. If you want to force a new download, use `force_download=True`.\n",
      "  warnings.warn(\n"
     ]
    },
    {
     "name": "stdout",
     "output_type": "stream",
     "text": [
      "Loaded detection model vikp/surya_det2 on device cpu with dtype torch.float32\n",
      "Loaded detection model vikp/surya_layout2 on device cpu with dtype torch.float32\n",
      "Loaded reading order model vikp/surya_order on device cpu with dtype torch.float32\n",
      "Loaded texify model to cpu with torch.float32 dtype\n"
     ]
    },
    {
     "ename": "TypeError",
     "evalue": "Invalid input type 'PdfDocument'",
     "output_type": "error",
     "traceback": [
      "\u001b[0;31m---------------------------------------------------------------------------\u001b[0m",
      "\u001b[0;31mTypeError\u001b[0m                                 Traceback (most recent call last)",
      "Cell \u001b[0;32mIn[10], line 8\u001b[0m\n\u001b[1;32m      6\u001b[0m output \u001b[38;5;241m=\u001b[39m \u001b[38;5;124m\"\u001b[39m\u001b[38;5;124moutput_dir\u001b[39m\u001b[38;5;124m\"\u001b[39m\n\u001b[1;32m      7\u001b[0m os\u001b[38;5;241m.\u001b[39mmakedirs(output,exist_ok\u001b[38;5;241m=\u001b[39m\u001b[38;5;28;01mTrue\u001b[39;00m)\n\u001b[0;32m----> 8\u001b[0m full_text, images, out_meta \u001b[38;5;241m=\u001b[39m \u001b[43mconvert_single_pdf\u001b[49m\u001b[43m(\u001b[49m\u001b[43mfname\u001b[49m\u001b[43m,\u001b[49m\u001b[43m \u001b[49m\u001b[43mmodel_lst\u001b[49m\u001b[43m,\u001b[49m\u001b[43m \u001b[49m\u001b[43mlangs\u001b[49m\u001b[38;5;241;43m=\u001b[39;49m\u001b[43mlangs\u001b[49m\u001b[43m,\u001b[49m\u001b[43m \u001b[49m\u001b[43mbatch_multiplier\u001b[49m\u001b[38;5;241;43m=\u001b[39;49m\u001b[43mbatch_multiplier\u001b[49m\u001b[43m)\u001b[49m\n\u001b[1;32m     10\u001b[0m \u001b[38;5;66;03m# fname = os.path.basename(fname)\u001b[39;00m\n\u001b[1;32m     11\u001b[0m subfolder_path \u001b[38;5;241m=\u001b[39m save_markdown(output, fname, full_text, images, out_meta)\n",
      "File \u001b[0;32m~/Finance Data/.venv/lib/python3.10/site-packages/marker/convert.py:65\u001b[0m, in \u001b[0;36mconvert_single_pdf\u001b[0;34m(fname, model_lst, max_pages, metadata, langs, batch_multiplier)\u001b[0m\n\u001b[1;32m     63\u001b[0m \u001b[38;5;66;03m# Get initial text blocks from the pdf\u001b[39;00m\n\u001b[1;32m     64\u001b[0m doc \u001b[38;5;241m=\u001b[39m pdfium\u001b[38;5;241m.\u001b[39mPdfDocument(fname)\n\u001b[0;32m---> 65\u001b[0m pages, toc \u001b[38;5;241m=\u001b[39m \u001b[43mget_text_blocks\u001b[49m\u001b[43m(\u001b[49m\n\u001b[1;32m     66\u001b[0m \u001b[43m    \u001b[49m\u001b[43mdoc\u001b[49m\u001b[43m,\u001b[49m\n\u001b[1;32m     67\u001b[0m \u001b[43m    \u001b[49m\u001b[43mmax_pages\u001b[49m\u001b[38;5;241;43m=\u001b[39;49m\u001b[43mmax_pages\u001b[49m\u001b[43m,\u001b[49m\n\u001b[1;32m     68\u001b[0m \u001b[43m\u001b[49m\u001b[43m)\u001b[49m\n\u001b[1;32m     69\u001b[0m out_meta\u001b[38;5;241m.\u001b[39mupdate({\n\u001b[1;32m     70\u001b[0m     \u001b[38;5;124m\"\u001b[39m\u001b[38;5;124mtoc\u001b[39m\u001b[38;5;124m\"\u001b[39m: toc,\n\u001b[1;32m     71\u001b[0m     \u001b[38;5;124m\"\u001b[39m\u001b[38;5;124mpages\u001b[39m\u001b[38;5;124m\"\u001b[39m: \u001b[38;5;28mlen\u001b[39m(pages),\n\u001b[1;32m     72\u001b[0m })\n\u001b[1;32m     74\u001b[0m \u001b[38;5;66;03m# Unpack models from list\u001b[39;00m\n",
      "File \u001b[0;32m~/Finance Data/.venv/lib/python3.10/site-packages/marker/pdf/extract_text.py:85\u001b[0m, in \u001b[0;36mget_text_blocks\u001b[0;34m(doc, max_pages)\u001b[0m\n\u001b[1;32m     82\u001b[0m     range_end \u001b[38;5;241m=\u001b[39m \u001b[38;5;28mmin\u001b[39m(max_pages, \u001b[38;5;28mlen\u001b[39m(doc))\n\u001b[1;32m     83\u001b[0m     page_range \u001b[38;5;241m=\u001b[39m \u001b[38;5;28mrange\u001b[39m(range_end)\n\u001b[0;32m---> 85\u001b[0m char_blocks \u001b[38;5;241m=\u001b[39m \u001b[43mdictionary_output\u001b[49m\u001b[43m(\u001b[49m\u001b[43mdoc\u001b[49m\u001b[43m,\u001b[49m\u001b[43m \u001b[49m\u001b[43mpage_range\u001b[49m\u001b[38;5;241;43m=\u001b[39;49m\u001b[43mpage_range\u001b[49m\u001b[43m,\u001b[49m\u001b[43m \u001b[49m\u001b[43mkeep_chars\u001b[49m\u001b[38;5;241;43m=\u001b[39;49m\u001b[38;5;28;43;01mTrue\u001b[39;49;00m\u001b[43m)\u001b[49m\n\u001b[1;32m     86\u001b[0m marker_blocks \u001b[38;5;241m=\u001b[39m [pdftext_format_to_blocks(page, pnum) \u001b[38;5;28;01mfor\u001b[39;00m pnum, page \u001b[38;5;129;01min\u001b[39;00m \u001b[38;5;28menumerate\u001b[39m(char_blocks)]\n\u001b[1;32m     88\u001b[0m \u001b[38;5;28;01mreturn\u001b[39;00m marker_blocks, toc\n",
      "File \u001b[0;32m~/Finance Data/.venv/lib/python3.10/site-packages/pdftext/extraction.py:65\u001b[0m, in \u001b[0;36mdictionary_output\u001b[0;34m(pdf_path, sort, model, page_range, keep_chars, workers)\u001b[0m\n\u001b[1;32m     64\u001b[0m \u001b[38;5;28;01mdef\u001b[39;00m \u001b[38;5;21mdictionary_output\u001b[39m(pdf_path, sort\u001b[38;5;241m=\u001b[39m\u001b[38;5;28;01mFalse\u001b[39;00m, model\u001b[38;5;241m=\u001b[39m\u001b[38;5;28;01mNone\u001b[39;00m, page_range\u001b[38;5;241m=\u001b[39m\u001b[38;5;28;01mNone\u001b[39;00m, keep_chars\u001b[38;5;241m=\u001b[39m\u001b[38;5;28;01mFalse\u001b[39;00m, workers\u001b[38;5;241m=\u001b[39m\u001b[38;5;28;01mNone\u001b[39;00m):\n\u001b[0;32m---> 65\u001b[0m     pages \u001b[38;5;241m=\u001b[39m \u001b[43m_get_pages\u001b[49m\u001b[43m(\u001b[49m\u001b[43mpdf_path\u001b[49m\u001b[43m,\u001b[49m\u001b[43m \u001b[49m\u001b[43mmodel\u001b[49m\u001b[43m,\u001b[49m\u001b[43m \u001b[49m\u001b[43mpage_range\u001b[49m\u001b[43m,\u001b[49m\u001b[43m \u001b[49m\u001b[43mworkers\u001b[49m\u001b[38;5;241;43m=\u001b[39;49m\u001b[43mworkers\u001b[49m\u001b[43m)\u001b[49m\n\u001b[1;32m     66\u001b[0m     \u001b[38;5;28;01mfor\u001b[39;00m page \u001b[38;5;129;01min\u001b[39;00m pages:\n\u001b[1;32m     67\u001b[0m         \u001b[38;5;28;01mfor\u001b[39;00m block \u001b[38;5;129;01min\u001b[39;00m page[\u001b[38;5;124m\"\u001b[39m\u001b[38;5;124mblocks\u001b[39m\u001b[38;5;124m\"\u001b[39m]:\n",
      "File \u001b[0;32m~/Finance Data/.venv/lib/python3.10/site-packages/pdftext/extraction.py:26\u001b[0m, in \u001b[0;36m_get_pages\u001b[0;34m(pdf_path, model, page_range, workers)\u001b[0m\n\u001b[1;32m     23\u001b[0m \u001b[38;5;28;01mif\u001b[39;00m model \u001b[38;5;129;01mis\u001b[39;00m \u001b[38;5;28;01mNone\u001b[39;00m:\n\u001b[1;32m     24\u001b[0m     model \u001b[38;5;241m=\u001b[39m get_model()\n\u001b[0;32m---> 26\u001b[0m pdf_doc \u001b[38;5;241m=\u001b[39m \u001b[43mpdfium\u001b[49m\u001b[38;5;241;43m.\u001b[39;49m\u001b[43mPdfDocument\u001b[49m\u001b[43m(\u001b[49m\u001b[43mpdf_path\u001b[49m\u001b[43m)\u001b[49m\n\u001b[1;32m     27\u001b[0m \u001b[38;5;28;01mif\u001b[39;00m page_range \u001b[38;5;129;01mis\u001b[39;00m \u001b[38;5;28;01mNone\u001b[39;00m:\n\u001b[1;32m     28\u001b[0m     page_range \u001b[38;5;241m=\u001b[39m \u001b[38;5;28mrange\u001b[39m(\u001b[38;5;28mlen\u001b[39m(pdf_doc))\n",
      "File \u001b[0;32m~/Finance Data/.venv/lib/python3.10/site-packages/pypdfium2/_helpers/document.py:78\u001b[0m, in \u001b[0;36mPdfDocument.__init__\u001b[0;34m(self, input, password, autoclose)\u001b[0m\n\u001b[1;32m     76\u001b[0m     \u001b[38;5;28mself\u001b[39m\u001b[38;5;241m.\u001b[39mraw \u001b[38;5;241m=\u001b[39m \u001b[38;5;28mself\u001b[39m\u001b[38;5;241m.\u001b[39m_input\n\u001b[1;32m     77\u001b[0m \u001b[38;5;28;01melse\u001b[39;00m:\n\u001b[0;32m---> 78\u001b[0m     \u001b[38;5;28mself\u001b[39m\u001b[38;5;241m.\u001b[39mraw, to_hold, to_close \u001b[38;5;241m=\u001b[39m \u001b[43m_open_pdf\u001b[49m\u001b[43m(\u001b[49m\u001b[38;5;28;43mself\u001b[39;49m\u001b[38;5;241;43m.\u001b[39;49m\u001b[43m_input\u001b[49m\u001b[43m,\u001b[49m\u001b[43m \u001b[49m\u001b[38;5;28;43mself\u001b[39;49m\u001b[38;5;241;43m.\u001b[39;49m\u001b[43m_password\u001b[49m\u001b[43m,\u001b[49m\u001b[43m \u001b[49m\u001b[38;5;28;43mself\u001b[39;49m\u001b[38;5;241;43m.\u001b[39;49m\u001b[43m_autoclose\u001b[49m\u001b[43m)\u001b[49m\n\u001b[1;32m     79\u001b[0m     \u001b[38;5;28mself\u001b[39m\u001b[38;5;241m.\u001b[39m_data_holder \u001b[38;5;241m+\u001b[39m\u001b[38;5;241m=\u001b[39m to_hold\n\u001b[1;32m     80\u001b[0m     \u001b[38;5;28mself\u001b[39m\u001b[38;5;241m.\u001b[39m_data_closer \u001b[38;5;241m+\u001b[39m\u001b[38;5;241m=\u001b[39m to_close\n",
      "File \u001b[0;32m~/Finance Data/.venv/lib/python3.10/site-packages/pypdfium2/_helpers/document.py:674\u001b[0m, in \u001b[0;36m_open_pdf\u001b[0;34m(input_data, password, autoclose)\u001b[0m\n\u001b[1;32m    672\u001b[0m     pdf \u001b[38;5;241m=\u001b[39m pdfium_c\u001b[38;5;241m.\u001b[39mFPDF_LoadCustomDocument(bufaccess, password)\n\u001b[1;32m    673\u001b[0m \u001b[38;5;28;01melse\u001b[39;00m:\n\u001b[0;32m--> 674\u001b[0m     \u001b[38;5;28;01mraise\u001b[39;00m \u001b[38;5;167;01mTypeError\u001b[39;00m(\u001b[38;5;124mf\u001b[39m\u001b[38;5;124m\"\u001b[39m\u001b[38;5;124mInvalid input type \u001b[39m\u001b[38;5;124m'\u001b[39m\u001b[38;5;132;01m{\u001b[39;00m\u001b[38;5;28mtype\u001b[39m(input_data)\u001b[38;5;241m.\u001b[39m\u001b[38;5;18m__name__\u001b[39m\u001b[38;5;132;01m}\u001b[39;00m\u001b[38;5;124m'\u001b[39m\u001b[38;5;124m\"\u001b[39m)\n\u001b[1;32m    676\u001b[0m \u001b[38;5;28;01mif\u001b[39;00m pdfium_c\u001b[38;5;241m.\u001b[39mFPDF_GetPageCount(pdf) \u001b[38;5;241m<\u001b[39m \u001b[38;5;241m1\u001b[39m:\n\u001b[1;32m    677\u001b[0m     err_code \u001b[38;5;241m=\u001b[39m pdfium_c\u001b[38;5;241m.\u001b[39mFPDF_GetLastError()\n",
      "\u001b[0;31mTypeError\u001b[0m: Invalid input type 'PdfDocument'"
     ]
    }
   ],
   "source": [
    "from pathlib import Path\n",
    "model_lst = load_all_models()\n",
    "langs = [\"English\"]\n",
    "batch_multiplier = 2\n",
    "fname = Path(\"AstaragMohapatraResume.pdf\")\n",
    "output = \"output_dir\"\n",
    "os.makedirs(output,exist_ok=True)\n",
    "full_text, images, out_meta = convert_single_pdf(fname, model_lst, langs=langs, batch_multiplier=batch_multiplier)\n",
    "\n",
    "# fname = os.path.basename(fname)\n",
    "subfolder_path = save_markdown(output, fname, full_text, images, out_meta)\n"
   ]
  },
  {
   "cell_type": "code",
   "execution_count": 2,
   "metadata": {},
   "outputs": [
    {
     "data": {
      "text/plain": [
       "'English'"
      ]
     },
     "execution_count": 2,
     "metadata": {},
     "output_type": "execute_result"
    }
   ],
   "source": [
    "from surya.languages import CODE_TO_LANGUAGE, LANGUAGE_TO_CODE\n",
    "CODE_TO_LANGUAGE['en']"
   ]
  },
  {
   "cell_type": "code",
   "execution_count": 6,
   "metadata": {},
   "outputs": [
    {
     "data": {
      "text/plain": [
       "'Astarag Mohapatra Resume.pdf'"
      ]
     },
     "execution_count": 6,
     "metadata": {},
     "output_type": "execute_result"
    }
   ],
   "source": [
    "fname"
   ]
  },
  {
   "cell_type": "code",
   "execution_count": 8,
   "metadata": {},
   "outputs": [
    {
     "data": {
      "text/plain": [
       "PosixPath('AstaragMohapatraResume.pdf')"
      ]
     },
     "execution_count": 8,
     "metadata": {},
     "output_type": "execute_result"
    }
   ],
   "source": [
    "from pathlib import Path\n",
    "\n",
    "Path(\"AstaragMohapatraResume.pdf\")"
   ]
  },
  {
   "cell_type": "code",
   "execution_count": null,
   "metadata": {},
   "outputs": [],
   "source": []
  }
 ],
 "metadata": {
  "kernelspec": {
   "display_name": ".venv",
   "language": "python",
   "name": "python3"
  },
  "language_info": {
   "codemirror_mode": {
    "name": "ipython",
    "version": 3
   },
   "file_extension": ".py",
   "mimetype": "text/x-python",
   "name": "python",
   "nbconvert_exporter": "python",
   "pygments_lexer": "ipython3",
   "version": "3.10.12"
  }
 },
 "nbformat": 4,
 "nbformat_minor": 2
}
