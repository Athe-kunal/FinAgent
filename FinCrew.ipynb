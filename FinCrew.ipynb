{
 "cells": [
  {
   "cell_type": "code",
   "execution_count": 12,
   "metadata": {},
   "outputs": [],
   "source": [
    "from crewai import Task, Agent, Crew\n",
    "from crewai_tools import JSONSearchTool"
   ]
  },
  {
   "cell_type": "code",
   "execution_count": 13,
   "metadata": {},
   "outputs": [],
   "source": [
    "from src.utils import get_earnings_transcript\n",
    "import re\n",
    "import os\n",
    "import json\n",
    "from crewai_tools import JSONSearchTool\n",
    "\n",
    "base_dir = \"DATA\"\n",
    "os.makedirs(base_dir,exist_ok=True)\n",
    "def clean_speakers(speaker):\n",
    "    speaker = re.sub(\"\\n\", \"\", speaker)\n",
    "    speaker = re.sub(\":\", \"\", speaker)\n",
    "    return speaker\n",
    "\n",
    "quarter = \"Q1\"\n",
    "ticker = \"AAPL\"\n",
    "year = \"2023\"\n",
    "\n",
    "def get_save_earnings_data(quarter:str,ticker:str,year:str):\n",
    "    ticker_path = os.path.join(base_dir,ticker)\n",
    "    os.makedirs(ticker_path,exist_ok=True)\n",
    "    ticker_year = os.path.join(ticker_path,year)\n",
    "    os.makedirs(ticker_year,exist_ok=True)\n",
    "    ticker_year_quarter = os.path.join(ticker_year,quarter)\n",
    "    os.makedirs(ticker_year_quarter,exist_ok=True)\n",
    "\n",
    "    resp_dict = get_earnings_transcript(quarter,ticker,year)\n",
    "\n",
    "    content = resp_dict[\"content\"]\n",
    "    pattern = re.compile(r\"\\n(.*?):\")\n",
    "    matches = pattern.finditer(content)\n",
    "\n",
    "    speakers_list = []\n",
    "    ranges = []\n",
    "    for match_ in matches:\n",
    "        span_range = match_.span()\n",
    "        ranges.append(span_range)\n",
    "        speakers_list.append(match_.group())\n",
    "    speakers_list = [clean_speakers(sl) for sl in speakers_list]\n",
    "\n",
    "    earning_calls_docs = []\n",
    "    for idx, speaker in enumerate(speakers_list[:-1]):\n",
    "        start_range = ranges[idx][1]\n",
    "        end_range = ranges[idx + 1][0]\n",
    "        speaker_text = content[start_range + 1 : end_range]\n",
    "\n",
    "        earning_calls_docs.append({\"speaker\":speaker,\"quarter\":quarter,\"speaker_text\":f\"{speaker}: {speaker_text}\"})\n",
    "\n",
    "    earning_calls_docs.append({\"speaker\": speakers_list[-1], \"quarter\": quarter,'speaker_text':content[ranges[-1][1] :]})\n",
    "    json_path = os.path.join(ticker_year_quarter,f'{quarter}.json')\n",
    "    with open(json_path, 'w') as file:\n",
    "        json.dump(earning_calls_docs, file, indent=4)\n",
    "    json_tool = JSONSearchTool(json_path=json_path)\n",
    "    return json_tool"
   ]
  },
  {
   "cell_type": "code",
   "execution_count": 17,
   "metadata": {},
   "outputs": [
    {
     "data": {
      "text/plain": [
       "True"
      ]
     },
     "execution_count": 17,
     "metadata": {},
     "output_type": "execute_result"
    }
   ],
   "source": [
    "from dotenv import load_dotenv,find_dotenv\n",
    "\n",
    "load_dotenv(find_dotenv(),override=True)"
   ]
  },
  {
   "cell_type": "code",
   "execution_count": 18,
   "metadata": {},
   "outputs": [
    {
     "name": "stdout",
     "output_type": "stream",
     "text": [
      "Earnings Call Q1\n"
     ]
    },
    {
     "name": "stderr",
     "output_type": "stream",
     "text": [
      "Inserting batches in chromadb: 100%|██████████| 1/1 [00:00<00:00,  1.51it/s]\n",
      "Inserting batches in chromadb: 100%|██████████| 1/1 [00:00<00:00,  1.87it/s]\n",
      "Inserting batches in chromadb: 100%|██████████| 1/1 [00:00<00:00,  1.64it/s]\n",
      "Inserting batches in chromadb: 100%|██████████| 1/1 [00:20<00:00, 20.74s/it]\n"
     ]
    }
   ],
   "source": [
    "from tenacity import RetryError\n",
    "from crewai_tools import JSONSearchTool  # Updated import path\n",
    "\n",
    "print(\"Earnings Call Q1\")\n",
    "\n",
    "def get_quarter_tool(quarters,ticker,year):\n",
    "    earnings_calls_tools = []\n",
    "    for quarter in quarters:\n",
    "        try:\n",
    "            curr_quarter_tool = get_save_earnings_data(quarter,ticker,year)\n",
    "            earnings_calls_tools.append(curr_quarter_tool)\n",
    "        except RetryError:\n",
    "            print(f\"Don't have the data for {quarter}\")\n",
    "    return earnings_calls_tools\n",
    "earnings_calls_tools = get_quarter_tool([\"Q1\",\"Q2\",\"Q3\",\"Q4\"],ticker,year)\n"
   ]
  },
  {
   "cell_type": "code",
   "execution_count": 26,
   "metadata": {},
   "outputs": [
    {
     "name": "stdout",
     "output_type": "stream",
     "text": [
      "Started Scraping\n",
      "Scraped\n",
      "Started Extracting\n",
      "Extracted\n"
     ]
    }
   ],
   "source": [
    "from src.secData import sec_main\n",
    "sec_docs,sec_form_names = sec_main(ticker=ticker,year=year)"
   ]
  },
  {
   "cell_type": "code",
   "execution_count": 33,
   "metadata": {},
   "outputs": [],
   "source": [
    "for sec_filings,sec_name in zip(sec_docs,sec_form_names):\n",
    "    report_year = sec_filings[-2].split(\"-\")[0]\n",
    "    if sec_name.startswith(\"10-Q\"):\n",
    "        curr_quarter = sec_name.split(\"-\")[-1]\n",
    "        save_path = os.path.join(base_dir,ticker,report_year,curr_quarter)\n",
    "    else:\n",
    "        save_path = os.path.join(base_dir,ticker,report_year)\n",
    "    os.makedirs(save_path,exist_ok=True)\n",
    "    with open(os.path.join(save_path,f'{sec_name}.json'), 'w') as file:\n",
    "        json.dump(sec_filings[-1], file, indent=4)"
   ]
  },
  {
   "cell_type": "code",
   "execution_count": 2,
   "metadata": {},
   "outputs": [
    {
     "name": "stdout",
     "output_type": "stream",
     "text": [
      "Earnings Call Q1\n",
      "Earnings Call Q2\n",
      "Earnings Call Q3\n",
      "Earnings Call Q4\n",
      "SEC\n",
      "Started Scraping\n",
      "Scraped\n",
      "Started Extracting\n",
      "Extracted\n"
     ]
    },
    {
     "name": "stderr",
     "output_type": "stream",
     "text": [
      "/home/athekunal/Finance Data/.venv/lib/python3.10/site-packages/huggingface_hub/file_download.py:1132: FutureWarning: `resume_download` is deprecated and will be removed in version 1.0.0. Downloads always resume when possible. If you want to force a new download, use `force_download=True`.\n",
      "  warnings.warn(\n"
     ]
    }
   ],
   "source": [
    "from src.vectorDatabaseDocker import create_database\n",
    "ticker = \"META\"\n",
    "year = \"2023\"\n",
    "(\n",
    "        qdrant_client,\n",
    "        encoder,\n",
    "        speakers_list_1,\n",
    "        speakers_list_2,\n",
    "        speakers_list_3,\n",
    "        speakers_list_4,\n",
    "        sec_form_names,\n",
    "        earnings_call_quarter_vals,\n",
    "    ) = create_database(ticker=ticker, year=int(float(year)))"
   ]
  },
  {
   "cell_type": "code",
   "execution_count": 3,
   "metadata": {},
   "outputs": [],
   "source": [
    "from src.queryDatabase import query_database_earnings_call,query_database_sec"
   ]
  },
  {
   "cell_type": "code",
   "execution_count": 9,
   "metadata": {},
   "outputs": [],
   "source": [
    "from functools import partial\n",
    "query_sec = partial(query_database_sec,qdrant_client=qdrant_client,encoder=encoder)\n",
    "query_earnings_call = partial(query_database_earnings_call,qdrant_client=qdrant_client,encoder=encoder)"
   ]
  },
  {
   "cell_type": "code",
   "execution_count": 10,
   "metadata": {},
   "outputs": [
    {
     "data": {
      "text/plain": [
       "'RISK_FACTORS: other value to justify our investments, and our business may be adversely affected. We may not be successful in our artificial intelligence initiatives, which could adversely affect our business, reputation, or financial results. We are making significant investments in artificial intelligence (AI) initiatives, including to recommend relevant unconnected content across our products, enhance our advertising tools, and develop new product features using generative AI. In particular, we expect our AI. features using generative AI. In particular, we expect our AI initiatives will require increased investment in infrastructure and headcount. AI technologies are complex and rapidly evolving, and we face significant competition from other companies as well as an evolving regulatory landscape. These efforts, including the introduction of new products or changes to existing products, may result in new or enhanced governmental or regulatory scrutiny, litigation, ethical concerns, or other complications that. litigation, ethical concerns, or other complications that could adversely affect our business, reputation, or financial results. For example, the use of datasets to develop AI models, the content generated by AI systems, or the application of AI systems may be found to be insufficient, offensive, biased, or harmful, or violate current or future laws and regulations. In addition, market acceptance of AI technologies is uncertain, and we may be unsuccessful in our product development efforts. Any of these. \\n\\n'"
      ]
     },
     "execution_count": 10,
     "metadata": {},
     "output_type": "execute_result"
    }
   ],
   "source": [
    "query_sec(question=\"AI training\",search_form=\"10-Q1\")"
   ]
  },
  {
   "cell_type": "code",
   "execution_count": 12,
   "metadata": {},
   "outputs": [
    {
     "data": {
      "text/plain": [
       "\"Mark Zuckerberg: Threads, although I'll note that Threads now has more people actively using it today than it did during its initial launch peak. So that one is, I think, on track to be a major success.  But normally, we learn and we iterate methodically. And we started doing that with our AI services in the fall launching Meta AI, our assistant; AI Studio, which the precursor to Creator AIs; our Alpha with Business AIs; and the Ray-Ban Meta smart glasses. And we've been tuning each of these, and we're getting closer tocrawl data set. And people share large numbers of public text posts and comments across our services as well.  But even more important in the upfront training corpus is the ability to establish the right feedback loops with hundreds of millions of people interacting with AI services across our products. And this feedback is a big part of how we've improved our AI systems so quickly with Reels and Ads, especially over the last couple of years when we had to re-architect it around new rules.  Now that bringsgo together pretty hand-in-hand. I would have predicted that a lot of the parts of Reality Labs -- I guess the sequence in technology is sometimes surprising.  We always kind of expected that as part of building glasses or any of these platforms that having an AI assistant would be a foundational part of it. But the fact that that's -- that there have just been big strides in that over the last year or 2 is just -- is a big opportunity for these products sooner. So I think it's still unknown exactly how\\n\\n\""
      ]
     },
     "execution_count": 12,
     "metadata": {},
     "output_type": "execute_result"
    }
   ],
   "source": [
    "query_earnings_call(question=\"AI training\",quarter=\"Q4\",speakers_list=speakers_list_4)"
   ]
  },
  {
   "cell_type": "code",
   "execution_count": 13,
   "metadata": {},
   "outputs": [
    {
     "data": {
      "text/plain": [
       "['10-K', '10-Q3', '10-Q2', '10-Q1']"
      ]
     },
     "execution_count": 13,
     "metadata": {},
     "output_type": "execute_result"
    }
   ],
   "source": [
    "sec_form_names"
   ]
  },
  {
   "cell_type": "code",
   "execution_count": 14,
   "metadata": {},
   "outputs": [
    {
     "data": {
      "text/plain": [
       "['Q1', 'Q2', 'Q3', 'Q4']"
      ]
     },
     "execution_count": 14,
     "metadata": {},
     "output_type": "execute_result"
    }
   ],
   "source": [
    "earnings_call_quarter_vals"
   ]
  },
  {
   "cell_type": "code",
   "execution_count": 29,
   "metadata": {},
   "outputs": [],
   "source": [
    "from crewai_tools import BaseTool, tool\n",
    "\n",
    "sec_tools = []\n",
    "for sec_form in sec_form_names:\n",
    "    if \"10-K\" in sec_form:\n",
    "        # description = \n",
    "        @tool(\"10-K data\")\n",
    "        def yearly_tool(question:str)->str:\n",
    "            \"\"\"\n",
    "            This tool will fetch relevant documents from 10-K yearly filing to answer questions regarding the financial and other conditions about a public company \n",
    "            \"\"\"\n",
    "            return query_sec(question=question,search_form=sec_form)\n",
    "        # sec_tools.update({sec_form:yearly_tool})\n",
    "        sec_tools.append(yearly_tool)\n",
    "    elif \"10-Q\" in sec_form:\n",
    "        quarter = sec_form.split(\"-\")[1]\n",
    "        @tool(f\"{sec_form} data\")\n",
    "        def quarterly_tool(question:str)->str:\n",
    "            \"This tool will fetch relevant documents from 10-Q quarterly filing from the quarter mentioned in the name of the tool.\" \n",
    "            \"This tool will answer questions regarding the quarterly financial and other conditions about a public company\" \n",
    "            return query_sec(question=question,search_form=sec_form)\n",
    "        # sec_tools.update({sec_form:quarterly_tool})\n",
    "        sec_tools.append(quarterly_tool)"
   ]
  },
  {
   "cell_type": "code",
   "execution_count": 30,
   "metadata": {},
   "outputs": [
    {
     "data": {
      "text/plain": [
       "[Tool(name='10-K data', description=\"10-K data(question: 'string') -              This tool will fetch relevant documents from 10-K yearly filing to answer questions regarding the financial and other conditions about a public company              \", args_schema=<class 'abc.10-Kdata'>, description_updated=False, cache_function=<function BaseTool.<lambda> at 0x7f6614a4dcf0>, func=<function yearly_tool at 0x7f653d7a81f0>),\n",
       " Tool(name='10-Q3 data', description=\"10-Q3 data(question: 'string') -              This tool will fetch relevant documents from 10-Q quarterly filing from the quarter mentioned in the name of the tool.              This tool will answer questions regarding the quarterly financial and other conditions about a public company              \", args_schema=<class 'abc.10-Q3Data'>, description_updated=False, cache_function=<function BaseTool.<lambda> at 0x7f6614a4dcf0>, func=<function quarterly_tool at 0x7f653d7a8310>),\n",
       " Tool(name='10-Q2 data', description=\"10-Q2 data(question: 'string') -              This tool will fetch relevant documents from 10-Q quarterly filing from the quarter mentioned in the name of the tool.              This tool will answer questions regarding the quarterly financial and other conditions about a public company              \", args_schema=<class 'abc.10-Q2Data'>, description_updated=False, cache_function=<function BaseTool.<lambda> at 0x7f6614a4dcf0>, func=<function quarterly_tool at 0x7f653d7a83a0>),\n",
       " Tool(name='10-Q1 data', description=\"10-Q1 data(question: 'string') -              This tool will fetch relevant documents from 10-Q quarterly filing from the quarter mentioned in the name of the tool.              This tool will answer questions regarding the quarterly financial and other conditions about a public company              \", args_schema=<class 'abc.10-Q1Data'>, description_updated=False, cache_function=<function BaseTool.<lambda> at 0x7f6614a4dcf0>, func=<function quarterly_tool at 0x7f653d7a8430>)]"
      ]
     },
     "execution_count": 30,
     "metadata": {},
     "output_type": "execute_result"
    }
   ],
   "source": [
    "sec_tools"
   ]
  },
  {
   "cell_type": "code",
   "execution_count": 33,
   "metadata": {},
   "outputs": [],
   "source": [
    "earnings_calls_tools_list = []\n",
    "for idx,speaker_list in enumerate([speakers_list_1,speakers_list_2,speakers_list_3,speakers_list_4]):\n",
    "    if speaker_list == []: continue\n",
    "    else:\n",
    "        quarter = earnings_call_quarter_vals[idx]\n",
    "        @tool(f\"{quarter} earnings call data\")\n",
    "        def earnings_call_tool(question:str)->str:\n",
    "            \"\"\"\n",
    "            This tool will fetch relevant documents from earnings call transcripts from the quarter mentioned in the name of the tool\n",
    "            to answer questions regarding the financial and other conditions about a public company \n",
    "            \"\"\"\n",
    "            return query_earnings_call(question=question,quarter=quarter,speakers_list=speaker_list)\n",
    "        # sec_tools.update({sec_form:yearly_tool})\n",
    "        earnings_calls_tools_list.append(earnings_call_tool)"
   ]
  },
  {
   "cell_type": "code",
   "execution_count": 40,
   "metadata": {},
   "outputs": [
    {
     "data": {
      "text/plain": [
       "True"
      ]
     },
     "execution_count": 40,
     "metadata": {},
     "output_type": "execute_result"
    }
   ],
   "source": [
    "from crewai import Agent, Task, Crew\n",
    "from dotenv import load_dotenv, find_dotenv\n",
    "\n",
    "load_dotenv(find_dotenv(), override=True)"
   ]
  },
  {
   "cell_type": "code",
   "execution_count": 41,
   "metadata": {},
   "outputs": [],
   "source": [
    "# Head tool --> direct question to one of the tools\n",
    "\n",
    "router_financial_agent = Agent(\n",
    "    role = \"Financial data analyst\",\n",
    "    goal = \"Analyze the question and determine which relevant financial document can \"\n",
    "            \"best answer the question.\",\n",
    "    backstory = \"With access to books about finance, SEC filings like 10-K for yearly \"\n",
    "                \"data and 10-Qs for quarterly data, and earnings call transcripts quarterly \"\n",
    "                \"data. With a understanding of the relevant data source, the Router Financial Agent \"\n",
    "                \"will route the query to the relevant financial agent\",\n",
    "        verbose=True,\n",
    "        allow_delegation=True\n",
    ")"
   ]
  },
  {
   "cell_type": "code",
   "execution_count": 51,
   "metadata": {},
   "outputs": [],
   "source": [
    "from langchain_openai import ChatOpenAI\n",
    "\n",
    "sec_filings_agent = Agent(\n",
    "    role = \"SEC Filings Financial Data Analyst\",\n",
    "    goal = \"Answer the question in detail by first using the relevant tool to get relevant documents \",\n",
    "    backstory = \"With access to 10-K yearly SEC filings and 10-Q quarterly SEC filings \"\n",
    "                \"you can get relevant documents from these documents to answer the question. \"\n",
    "                \"Don't answer the questions which is outside the scope of the relevant documents. \"\n",
    "                \"Include all the relevant numerical figures in your answer.\",\n",
    "    verbose=True,\n",
    "    allow_delegation=False,\n",
    "    tools = sec_tools,\n",
    "    llm = ChatOpenAI(model=\"gpt-3.5-turbo-0125\")\n",
    ")"
   ]
  },
  {
   "cell_type": "code",
   "execution_count": 52,
   "metadata": {},
   "outputs": [],
   "source": [
    "earnings_call_transcripts_agent  =Agent(\n",
    "    role = \"Earnings Call transcripts Financial Data Analyst\",\n",
    "    goal = \"Answer the question in detail by first using the relevant tool from the relevant quarter to get relevant documents. \",\n",
    "    backstory = \"With access to earnings call transcripts quarterly data you can get relevant documents from these documents to answer the question. \"\n",
    "                \"Don't answer the questions which is outside the scope of the relevant documents. \"\n",
    "                \"Include all the relevant numerical figures in your answer.\",\n",
    "    verbose=True,\n",
    "    allow_delegation=False,\n",
    "    tools = earnings_calls_tools_list,\n",
    "    llm = ChatOpenAI(model=\"gpt-3.5-turbo-0125\")        \n",
    ")"
   ]
  },
  {
   "cell_type": "code",
   "execution_count": 53,
   "metadata": {},
   "outputs": [],
   "source": [
    "routing_task = Task(\n",
    "    description = (\n",
    "        \"Based on your understanding by thinking step by step \"\n",
    "        \"about the question {question}, route the question to appropriate agent \"\n",
    "        \"to best answer the question. You can delegate the question to an agent that can \"\n",
    "        \"refer to SEC filings to answer the question, and other agent can refer to \"\n",
    "        \"earnings call transcripts to answer the quetion. Based on your reasoning, route to relevant agent\"\n",
    "    ),\n",
    "    expected_output = (\n",
    "        \"Information and reasoning to route the query to the relevant agent for answering the question\"\n",
    "    ),\n",
    "    agent = router_financial_agent\n",
    ")"
   ]
  },
  {
   "cell_type": "code",
   "execution_count": 54,
   "metadata": {},
   "outputs": [],
   "source": [
    "sec_task = Task(\n",
    "    description = (\n",
    "        \"Use one of the tool to get the relevant documents to the question {question}.\"\n",
    "        \"Using the relevant context only, answer in detail to the question, and don't skip out on numerical figures (if any).\"\n",
    "    ),\n",
    "    expected_output = (\n",
    "        \"Detailed answer to the question, including the relevant context and numerical figures\"\n",
    "    ),\n",
    "    tools = sec_tools,\n",
    "    agent = sec_filings_agent\n",
    ")\n",
    "\n",
    "earnings_call_task = Task(\n",
    "    description = (\n",
    "        \"Use one of the tool to get the relevant documents to the question {question}.\"\n",
    "        \"Using the relevant context only, answer in detail to the question, and don't skip out on numerical figures (if any).\"\n",
    "        \"Also, mention the speakers from relevant context\"\n",
    "    ),\n",
    "    expected_output = (\n",
    "        \"Detailed answer to the question, including the relevant context and numerical figures\"\n",
    "    ),\n",
    "    tools = earnings_calls_tools_list,\n",
    "    agent = earnings_call_transcripts_agent\n",
    ")"
   ]
  },
  {
   "cell_type": "code",
   "execution_count": 55,
   "metadata": {},
   "outputs": [
    {
     "name": "stderr",
     "output_type": "stream",
     "text": [
      "2024-05-22 18:53:05,049 - 140077000359936 - __init__.py-__init__:518 - WARNING: Overriding of current TracerProvider is not allowed\n"
     ]
    }
   ],
   "source": [
    "from crewai import Crew, Process\n",
    "from langchain_openai import ChatOpenAI\n",
    "\n",
    "# Define the crew with agents and tasks\n",
    "financial_docs_crew = Crew(\n",
    "    agents=[sec_filings_agent, \n",
    "            earnings_call_transcripts_agent],\n",
    "    \n",
    "    tasks=[sec_task, \n",
    "           earnings_call_task],\n",
    "    \n",
    "    manager_llm=ChatOpenAI(model=\"gpt-3.5-turbo\", \n",
    "                           temperature=0.0),\n",
    "    process=Process.hierarchical,\n",
    "    verbose=True\n",
    ")"
   ]
  },
  {
   "cell_type": "code",
   "execution_count": 56,
   "metadata": {},
   "outputs": [
    {
     "name": "stdout",
     "output_type": "stream",
     "text": [
      "\u001b[1m\u001b[92m [DEBUG]: Working Agent: Crew Manager\u001b[00m\n",
      "\u001b[1m\u001b[92m [INFO]: Starting Task: Use one of the tool to get the relevant documents to the question What did Mark Zuckerberg say about AI spending in the fourth quarter?.Using the relevant context only, answer in detail to the question, and don't skip out on numerical figures (if any).\u001b[00m\n",
      "\n",
      "\n",
      "\u001b[1m> Entering new CrewAgentExecutor chain...\u001b[0m\n",
      "\u001b[32;1m\u001b[1;3mI need to use the tools available to get the relevant documents to answer the question about what Mark Zuckerberg said about AI spending in the fourth quarter. I must provide a detailed answer with all the necessary context and numerical figures.\n",
      "\n",
      "Action:\n",
      "Delegate work to co-worker\n",
      "\n",
      "Action Input:\n",
      "{\n",
      "    \"task\": \"Retrieve documents related to Mark Zuckerberg's statements on AI spending in the fourth quarter\",\n",
      "    \"context\": \"Mark Zuckerberg is the CEO of Facebook and has been vocal about the company's investments in artificial intelligence. The fourth quarter refers to the last quarter of the fiscal year.\",\n",
      "    \"coworker\": \"SEC Filings Financial Data Analyst\"\n",
      "}\n",
      "\u001b[0m\n",
      "\n",
      "\u001b[1m> Entering new CrewAgentExecutor chain...\u001b[0m\n",
      "\u001b[32;1m\u001b[1;3mI need to find the relevant document that contains Mark Zuckerberg's statements on AI spending in the fourth quarter. Since I'm looking for information specific to a quarter, I should use the 10-Q3 data tool.\n",
      "\n",
      "Action: 10-Q3 data\n",
      "Action Input: {\"question\": \"Mark Zuckerberg's statements on AI spending in the fourth quarter\"}\u001b[0m\u001b[95m \n",
      "\n",
      "RISK_FACTORS: to our stockholders and must act in good faith in a manner he reasonably believes to be in the best interests of our stockholders. As a stockholder, even a controlling stockholder, Mr. Zuckerberg is entitled to vote his shares in his own interests, which may not always be in the interests of our stockholders generally. We cannot guarantee that our share repurchase program will be fully consummated or that it will enhance long-term stockholder value. Share repurchases could also increase the volatility of. well as retain our existing personnel. If we do not succeed in attracting, hiring, and integrating excellent personnel, or retaining and motivating existing personnel, we may be unable to grow effectively. Our CEO has control over key decision making as a result of his control of a majority of the voting power of our outstanding capital stock. Mark Zuckerberg, our founder, Chairman, and CEO, is able to exercise voting rights with respect to a majority of the voting power of our outstanding capital stock. \n",
      "\n",
      "MANAGEMENT_DISCUSSION: In particular, we believe advertising budgets have been pressured by factors such as inflation, rising interest rates, and related market uncertainty, which has led to reduced marketer spending. In addition, competitive products and services have reduced some users' engagement with our products and services. In response to competitive pressures, we are investing in Reels and in AI initiatives across our products, including our AI-powered discovery engine to recommend relevant unconnected content. While. \n",
      "\n",
      "\n",
      "\u001b[00m\n",
      "\u001b[32;1m\u001b[1;3mFinal Answer:\n",
      "RISK_FACTORS: to our stockholders and must act in good faith in a manner he reasonably believes to be in the best interests of our stockholders. As a stockholder, even a controlling stockholder, Mr. Zuckerberg is entitled to vote his shares in his own interests, which may not always be in the interests of our stockholders generally. We cannot guarantee that our share repurchase program will be fully consummated or that it will enhance long-term stockholder value. Share repurchases could also increase the volatility of. well as retain our existing personnel. If we do not succeed in attracting, hiring, and integrating excellent personnel, or retaining and motivating existing personnel, we may be unable to grow effectively. Our CEO has control over key decision making as a result of his control of a majority of the voting power of our outstanding capital stock. Mark Zuckerberg, our founder, Chairman, and CEO, is able to exercise voting rights with respect to a majority of the voting power of our outstanding capital stock. \n",
      "\n",
      "MANAGEMENT_DISCUSSION: In particular, we believe advertising budgets have been pressured by factors such as inflation, rising interest rates, and related market uncertainty, which has led to reduced marketer spending. In addition, competitive products and services have reduced some users' engagement with our products and services. In response to competitive pressures, we are investing in Reels and in AI initiatives across our products, including our AI-powered discovery engine to recommend relevant unconnected content. While.\u001b[0m\n",
      "\n",
      "\u001b[1m> Finished chain.\u001b[0m\n",
      "\u001b[95m \n",
      "\n",
      "RISK_FACTORS: to our stockholders and must act in good faith in a manner he reasonably believes to be in the best interests of our stockholders. As a stockholder, even a controlling stockholder, Mr. Zuckerberg is entitled to vote his shares in his own interests, which may not always be in the interests of our stockholders generally. We cannot guarantee that our share repurchase program will be fully consummated or that it will enhance long-term stockholder value. Share repurchases could also increase the volatility of. well as retain our existing personnel. If we do not succeed in attracting, hiring, and integrating excellent personnel, or retaining and motivating existing personnel, we may be unable to grow effectively. Our CEO has control over key decision making as a result of his control of a majority of the voting power of our outstanding capital stock. Mark Zuckerberg, our founder, Chairman, and CEO, is able to exercise voting rights with respect to a majority of the voting power of our outstanding capital stock. \n",
      "\n",
      "MANAGEMENT_DISCUSSION: In particular, we believe advertising budgets have been pressured by factors such as inflation, rising interest rates, and related market uncertainty, which has led to reduced marketer spending. In addition, competitive products and services have reduced some users' engagement with our products and services. In response to competitive pressures, we are investing in Reels and in AI initiatives across our products, including our AI-powered discovery engine to recommend relevant unconnected content. While.\n",
      "\u001b[00m\n",
      "\u001b[32;1m\u001b[1;3mFinal Answer:\n",
      "In the SEC Filings related to Facebook, it is mentioned that Mark Zuckerberg, the CEO of the company, has control over key decision-making due to his majority voting power. The filings also discuss the risks associated with share repurchase programs and the potential impact on stockholder value. Additionally, it is highlighted that competitive pressures have led to investments in AI initiatives, including an AI-powered discovery engine for recommending relevant content. This indicates that Mark Zuckerberg and Facebook are actively investing in AI spending in response to market challenges and competition.\u001b[0m\n",
      "\n",
      "\u001b[1m> Finished chain.\u001b[0m\n",
      "\u001b[1m\u001b[92m [DEBUG]: [Crew Manager] Task output: In the SEC Filings related to Facebook, it is mentioned that Mark Zuckerberg, the CEO of the company, has control over key decision-making due to his majority voting power. The filings also discuss the risks associated with share repurchase programs and the potential impact on stockholder value. Additionally, it is highlighted that competitive pressures have led to investments in AI initiatives, including an AI-powered discovery engine for recommending relevant content. This indicates that Mark Zuckerberg and Facebook are actively investing in AI spending in response to market challenges and competition.\u001b[00m\n",
      "\u001b[1m\u001b[92m [DEBUG]: Working Agent: Crew Manager\u001b[00m\n",
      "\u001b[1m\u001b[92m [INFO]: Starting Task: Use one of the tool to get the relevant documents to the question What did Mark Zuckerberg say about AI spending in the fourth quarter?.Using the relevant context only, answer in detail to the question, and don't skip out on numerical figures (if any).Also, mention the speakers from relevant context\u001b[00m\n",
      "\n",
      "\n",
      "\u001b[1m> Entering new CrewAgentExecutor chain...\u001b[0m\n",
      "\u001b[32;1m\u001b[1;3mI need to delegate the task of gathering the relevant documents to the SEC Filings Financial Data Analyst in order to get the detailed information about what Mark Zuckerberg said about AI spending in the fourth quarter.\n",
      "\n",
      "Action:\n",
      "Delegate work to co-worker\n",
      "\n",
      "Action Input:\n",
      "{\n",
      "    \"task\": \"Gather relevant documents about Mark Zuckerberg's statement on AI spending in the fourth quarter\",\n",
      "    \"context\": \"In the SEC Filings related to Facebook, it is mentioned that Mark Zuckerberg, the CEO of the company, has control over key decision-making due to his majority voting power. The filings also discuss the risks associated with share repurchase programs and the potential impact on stockholder value. Additionally, it is highlighted that competitive pressures have led to investments in AI initiatives, including an AI-powered discovery engine for recommending relevant content. This indicates that Mark Zuckerberg and Facebook are actively investing in AI spending in response to market challenges and competition.\"\n",
      "    \"coworker\": \"SEC Filings Financial Data Analyst\"\n",
      "}\n",
      "\u001b[0m\u001b[91m \n",
      "\n",
      "I encountered an error while trying to use the tool. This was the error: 'NoneType' object has no attribute 'startswith'.\n",
      " Tool Delegate work to co-worker accepts these inputs: Delegate work to co-worker(task: str, context: str, coworker: Optional[str] = None, **kwargs) - Delegate a specific task to one of the following co-workers: [SEC Filings Financial Data Analyst, Earnings Call transcripts Financial Data Analyst]\n",
      "The input to this tool should be the co-worker, the task you want them to do, and ALL necessary context to execute the task, they know nothing about the task, so share absolute everything you know, don't reference things but instead explain them.\n",
      "\u001b[00m\n",
      "\u001b[32;1m\u001b[1;3mThought: I need to ask a question to the SEC Filings Financial Data Analyst to get the relevant information about what Mark Zuckerberg said about AI spending in the fourth quarter.\n",
      "\n",
      "Action: Ask question to co-worker\n",
      "\n",
      "Action Input:\n",
      "{\n",
      "    \"question\": \"What did Mark Zuckerberg say about AI spending in the fourth quarter?\",\n",
      "    \"context\": \"In the SEC Filings related to Facebook, it is mentioned that Mark Zuckerberg, the CEO of the company, has control over key decision-making due to his majority voting power. The filings also discuss the risks associated with share repurchase programs and the potential impact on stockholder value. Additionally, it is highlighted that competitive pressures have led to investments in AI initiatives, including an AI-powered discovery engine for recommending relevant content. This indicates that Mark Zuckerberg and Facebook are actively investing in AI spending in response to market challenges and competition.\",\n",
      "    \"coworker\": \"SEC Filings Financial Data Analyst\"\n",
      "}\n",
      "\u001b[0m\n",
      "\n",
      "\u001b[1m> Entering new CrewAgentExecutor chain...\u001b[0m\n",
      "\u001b[32;1m\u001b[1;3mI need to find the relevant information about AI spending in the fourth quarter from the SEC filings related to Facebook. Since this question pertains to a specific quarter, I should use the tool for quarterly filings.\n",
      "\n",
      "Action:\n",
      "10-Q3 data\n",
      "Action Input:\n",
      "{\n",
      "\"question\": \"details about AI spending in the fourth quarter\"\n",
      "}\n",
      "\u001b[0m\u001b[95m \n",
      "\n",
      "RISK_FACTORS: other value to justify our investments, and our business may be adversely affected. We may not be successful in our artificial intelligence initiatives, which could adversely affect our business, reputation, or financial results. We are making significant investments in artificial intelligence (AI) initiatives, including to recommend relevant unconnected content across our products, enhance our advertising tools, and develop new product features using generative AI. In particular, we expect our AI. \n",
      "\n",
      "MANAGEMENT_DISCUSSION: RL. Our FoA investments include expenses relating to headcount, data centers, and technical infrastructure as part of our efforts to develop our apps and our advertising services. These efforts include significant investments in AI initiatives, including to recommend relevant unconnected content across our products, enhance our advertising tools, and develop new product features using generative AI. We are also making significant investments in our metaverse efforts, including developing virtual and. In particular, we believe advertising budgets have been pressured by factors such as inflation, rising interest rates, and related market uncertainty, which has led to reduced marketer spending. In addition, competitive products and services have reduced some users' engagement with our products and services. In response to competitive pressures, we are investing in Reels and in AI initiatives across our products, including our AI-powered discovery engine to recommend relevant unconnected content. While. \n",
      "\n",
      "\n",
      "\u001b[00m\n",
      "\u001b[32;1m\u001b[1;3mFinal Answer: \n",
      "RISK_FACTORS: We are making significant investments in artificial intelligence (AI) initiatives, including to recommend relevant unconnected content across our products, enhance our advertising tools, and develop new product features using generative AI. In particular, we expect our AI. \n",
      "\n",
      "MANAGEMENT_DISCUSSION: We are also making significant investments in AI initiatives, including to recommend relevant unconnected content across our products, enhance our advertising tools, and develop new product features using generative AI. In response to competitive pressures, we are investing in AI initiatives across our products, including our AI-powered discovery engine to recommend relevant unconnected content.\u001b[0m\n",
      "\n",
      "\u001b[1m> Finished chain.\u001b[0m\n",
      "\u001b[95m \n",
      "\n",
      "RISK_FACTORS: We are making significant investments in artificial intelligence (AI) initiatives, including to recommend relevant unconnected content across our products, enhance our advertising tools, and develop new product features using generative AI. In particular, we expect our AI. \n",
      "\n",
      "MANAGEMENT_DISCUSSION: We are also making significant investments in AI initiatives, including to recommend relevant unconnected content across our products, enhance our advertising tools, and develop new product features using generative AI. In response to competitive pressures, we are investing in AI initiatives across our products, including our AI-powered discovery engine to recommend relevant unconnected content.\n",
      "\u001b[00m\n",
      "\u001b[32;1m\u001b[1;3mFinal Answer: \n",
      "In the SEC Filings related to Facebook, Mark Zuckerberg mentioned that the company is making significant investments in artificial intelligence (AI) initiatives in the fourth quarter. These investments are aimed at recommending relevant unconnected content across their products, enhancing advertising tools, and developing new product features using generative AI. The management discussion highlighted that Facebook is responding to competitive pressures by investing in AI initiatives, including the development of an AI-powered discovery engine to recommend relevant unconnected content. This indicates that Mark Zuckerberg and Facebook are actively focusing on AI spending to stay competitive in the market and enhance user experience.\u001b[0m\n",
      "\n",
      "\u001b[1m> Finished chain.\u001b[0m\n",
      "\u001b[1m\u001b[92m [DEBUG]: [Crew Manager] Task output: In the SEC Filings related to Facebook, Mark Zuckerberg mentioned that the company is making significant investments in artificial intelligence (AI) initiatives in the fourth quarter. These investments are aimed at recommending relevant unconnected content across their products, enhancing advertising tools, and developing new product features using generative AI. The management discussion highlighted that Facebook is responding to competitive pressures by investing in AI initiatives, including the development of an AI-powered discovery engine to recommend relevant unconnected content. This indicates that Mark Zuckerberg and Facebook are actively focusing on AI spending to stay competitive in the market and enhance user experience.\u001b[00m\n"
     ]
    }
   ],
   "source": [
    "res = financial_docs_crew.kickoff({\"question\":\"What did Mark Zuckerberg say about AI spending in the fourth quarter?\"})"
   ]
  },
  {
   "cell_type": "code",
   "execution_count": 57,
   "metadata": {},
   "outputs": [
    {
     "data": {
      "text/plain": [
       "'In the SEC Filings related to Facebook, Mark Zuckerberg mentioned that the company is making significant investments in artificial intelligence (AI) initiatives in the fourth quarter. These investments are aimed at recommending relevant unconnected content across their products, enhancing advertising tools, and developing new product features using generative AI. The management discussion highlighted that Facebook is responding to competitive pressures by investing in AI initiatives, including the development of an AI-powered discovery engine to recommend relevant unconnected content. This indicates that Mark Zuckerberg and Facebook are actively focusing on AI spending to stay competitive in the market and enhance user experience.'"
      ]
     },
     "execution_count": 57,
     "metadata": {},
     "output_type": "execute_result"
    }
   ],
   "source": [
    "res"
   ]
  },
  {
   "cell_type": "code",
   "execution_count": 62,
   "metadata": {},
   "outputs": [
    {
     "name": "stdout",
     "output_type": "stream",
     "text": [
      "\u001b[1m\u001b[92m [DEBUG]: Working Agent: Crew Manager\u001b[00m\n",
      "\u001b[1m\u001b[92m [INFO]: Starting Task: Use one of the tool to get the relevant documents to the question What was the user growth in instagram and facebook?.Using the relevant context only, answer in detail to the question, and don't skip out on numerical figures (if any).\u001b[00m\n",
      "\n",
      "\n",
      "\u001b[1m> Entering new CrewAgentExecutor chain...\u001b[0m\n",
      "\u001b[32;1m\u001b[1;3mI need to gather the relevant documents to answer the question about the user growth in Instagram and Facebook. I should use the tools available to delegate work or ask questions to my co-workers in order to get the necessary information.\n",
      "\n",
      "Action:\n",
      "Delegate work to co-worker\n",
      "\n",
      "Action Input:\n",
      "{\n",
      "    \"task\": \"Retrieve user growth data for Instagram and Facebook\",\n",
      "    \"context\": \"I need detailed information on the user growth trends for Instagram and Facebook, including any recent data or reports available.\",\n",
      "    \"co-worker\": \"SEC Filings Financial Data Analyst\"\n",
      "}\n",
      "\u001b[0m\n",
      "\n",
      "\u001b[1m> Entering new CrewAgentExecutor chain...\u001b[0m\n",
      "\u001b[32;1m\u001b[1;3mI need to use the 10-K and 10-Q tools to retrieve the user growth data for Instagram and Facebook.\n",
      "\n",
      "Action: 10-K data\n",
      "Action Input: {\"question\": \"user growth data for Instagram and Facebook\"}\u001b[0m\u001b[95m \n",
      "\n",
      "MANAGEMENT_DISCUSSION: of 2023 increased by 26% year-over-year, and the average price per ad in the quarter of 2023 decreased by 17% year-over-year. Substantially all of our revenue is currently generated from advertising on Facebook and Instagram. We rely on targeting and measurement tools that incorporate data signals from user activity on websites and services that we do not control in order to deliver relevant and effective ads to our users. Our advertising revenue has been, and we expect will continue to be, adversely. for March 2023, an increase of 5% year-over-year. Family monthly active people (MAP) was 3.81 billion as of March 31, 2023, an increase of 5% year-over-year. Facebook daily active users (DAUs) were 2.04 billion on average for March 2023, an increase of 4% year-over-year. Facebook monthly active users (MAUs) were 2.99 billion as of March 31, 2023, an increase of 2% year-over-year. Ad impressions delivered across our Family of Apps in the quarter of 2023 increased by 26% year-over-year, and the average price. \n",
      "\n",
      "RISK_FACTORS: base and our users' level of engagement across our products are critical to our success. Our financial performance has been and will continue to be significantly determined by our success in adding, retaining, and engaging active users of our products that deliver ad impressions, particularly for Facebook and Instagram. We have experienced, and expect to continue to experience, fluctuations and declines in the size of our active user base in one or more markets from time to time, particularly in markets. \n",
      "\n",
      "\n",
      "\u001b[00m\n",
      "\u001b[32;1m\u001b[1;3mFinal Answer: \n",
      "\n",
      "MANAGEMENT_DISCUSSION: of 2023 increased by 26% year-over-year, and the average price per ad in the quarter of 2023 decreased by 17% year-over-year. Substantially all of our revenue is currently generated from advertising on Facebook and Instagram. We rely on targeting and measurement tools that incorporate data signals from user activity on websites and services that we do not control in order to deliver relevant and effective ads to our users. Our advertising revenue has been, and we expect will continue to be, adversely. for March 2023, an increase of 5% year-over-year. Family monthly active people (MAP) was 3.81 billion as of March 31, 2023, an increase of 5% year-over-year. Facebook daily active users (DAUs) were 2.04 billion on average for March 2023, an increase of 4% year-over-year. Facebook monthly active users (MAUs) were 2.99 billion as of March 31, 2023, an increase of 2% year-over-year. Ad impressions delivered across our Family of Apps in the quarter of 2023 increased by 26% year-over-year, and the average price.\n",
      "\n",
      "RISK_FACTORS: base and our users' level of engagement across our products are critical to our success. Our financial performance has been and will continue to be significantly determined by our success in adding, retaining, and engaging active users of our products that deliver ad impressions, particularly for Facebook and Instagram. We have experienced, and expect to continue to experience, fluctuations and declines in the size of our active user base in one or more markets from time to time, particularly in markets.\u001b[0m\n",
      "\n",
      "\u001b[1m> Finished chain.\u001b[0m\n",
      "\u001b[95m \n",
      "\n",
      "MANAGEMENT_DISCUSSION: of 2023 increased by 26% year-over-year, and the average price per ad in the quarter of 2023 decreased by 17% year-over-year. Substantially all of our revenue is currently generated from advertising on Facebook and Instagram. We rely on targeting and measurement tools that incorporate data signals from user activity on websites and services that we do not control in order to deliver relevant and effective ads to our users. Our advertising revenue has been, and we expect will continue to be, adversely. for March 2023, an increase of 5% year-over-year. Family monthly active people (MAP) was 3.81 billion as of March 31, 2023, an increase of 5% year-over-year. Facebook daily active users (DAUs) were 2.04 billion on average for March 2023, an increase of 4% year-over-year. Facebook monthly active users (MAUs) were 2.99 billion as of March 31, 2023, an increase of 2% year-over-year. Ad impressions delivered across our Family of Apps in the quarter of 2023 increased by 26% year-over-year, and the average price.\n",
      "\n",
      "RISK_FACTORS: base and our users' level of engagement across our products are critical to our success. Our financial performance has been and will continue to be significantly determined by our success in adding, retaining, and engaging active users of our products that deliver ad impressions, particularly for Facebook and Instagram. We have experienced, and expect to continue to experience, fluctuations and declines in the size of our active user base in one or more markets from time to time, particularly in markets.\n",
      "\u001b[00m\n",
      "\u001b[32;1m\u001b[1;3mFinal Answer:\n",
      "Based on the information retrieved from the SEC Filings, the user growth data for Instagram and Facebook is as follows:\n",
      "\n",
      "- Facebook daily active users (DAUs) were 2.04 billion on average for March 2023, an increase of 4% year-over-year.\n",
      "- Facebook monthly active users (MAUs) were 2.99 billion as of March 31, 2023, an increase of 2% year-over-year.\n",
      "- Family monthly active people (MAP) was 3.81 billion as of March 31, 2023, an increase of 5% year-over-year.\n",
      "- Ad impressions delivered across the Family of Apps in the quarter of 2023 increased by 26% year-over-year.\n",
      "- The average price per ad in the quarter of 2023 decreased by 17% year-over-year.\n",
      "\n",
      "These figures indicate a steady growth in user numbers for both Instagram and Facebook, with an increase in active users and ad impressions. The decrease in the average price per ad may suggest a strategy to increase ad engagement and reach a wider audience. Overall, the user growth trends for Instagram and Facebook are positive based on the data provided in the SEC Filings.\u001b[0m\n",
      "\n",
      "\u001b[1m> Finished chain.\u001b[0m\n",
      "\u001b[1m\u001b[92m [DEBUG]: [Crew Manager] Task output: Based on the information retrieved from the SEC Filings, the user growth data for Instagram and Facebook is as follows:\n",
      "\n",
      "- Facebook daily active users (DAUs) were 2.04 billion on average for March 2023, an increase of 4% year-over-year.\n",
      "- Facebook monthly active users (MAUs) were 2.99 billion as of March 31, 2023, an increase of 2% year-over-year.\n",
      "- Family monthly active people (MAP) was 3.81 billion as of March 31, 2023, an increase of 5% year-over-year.\n",
      "- Ad impressions delivered across the Family of Apps in the quarter of 2023 increased by 26% year-over-year.\n",
      "- The average price per ad in the quarter of 2023 decreased by 17% year-over-year.\n",
      "\n",
      "These figures indicate a steady growth in user numbers for both Instagram and Facebook, with an increase in active users and ad impressions. The decrease in the average price per ad may suggest a strategy to increase ad engagement and reach a wider audience. Overall, the user growth trends for Instagram and Facebook are positive based on the data provided in the SEC Filings.\u001b[00m\n",
      "\u001b[1m\u001b[92m [DEBUG]: Working Agent: Crew Manager\u001b[00m\n",
      "\u001b[1m\u001b[92m [INFO]: Starting Task: Use one of the tool to get the relevant documents to the question What was the user growth in instagram and facebook?.Using the relevant context only, answer in detail to the question, and don't skip out on numerical figures (if any).Also, mention the speakers from relevant context\u001b[00m\n",
      "\n",
      "\n",
      "\u001b[1m> Entering new CrewAgentExecutor chain...\u001b[0m\n",
      "\u001b[32;1m\u001b[1;3mI need to delegate the task of retrieving the relevant documents to the SEC Filings Financial Data Analyst.\n",
      "\n",
      "Action:\n",
      "Delegate work to co-worker\n",
      "\n",
      "Action Input:\n",
      "{\n",
      "    \"task\": \"Retrieve user growth data for Instagram and Facebook from SEC Filings\",\n",
      "    \"context\": \"Based on the information retrieved from the SEC Filings, the user growth data for Instagram and Facebook is as follows: - Facebook daily active users (DAUs) were 2.04 billion on average for March 2023, an increase of 4% year-over-year. - Facebook monthly active users (MAUs) were 2.99 billion as of March 31, 2023, an increase of 2% year-over-year. - Family monthly active people (MAP) was 3.81 billion as of March 31, 2023, an increase of 5% year-over-year. - Ad impressions delivered across the Family of Apps in the quarter of 2023 increased by 26% year-over-year. - The average price per ad in the quarter of 2023 decreased by 17% year-over-year.\",\n",
      "    \"coworker\": \"SEC Filings Financial Data Analyst\"\n",
      "}\n",
      "\u001b[0m\n",
      "\n",
      "\u001b[1m> Entering new CrewAgentExecutor chain...\u001b[0m\n",
      "\u001b[32;1m\u001b[1;3mI need to use the 10-K data tool to gather the relevant information about user growth data for Instagram and Facebook.\n",
      "\n",
      "Action:\n",
      "10-K data\n",
      "Action Input:\n",
      "{\n",
      "\"question\": \"user growth data for Instagram and Facebook\"\n",
      "}\n",
      "\u001b[0m\u001b[95m \n",
      "\n",
      "MANAGEMENT_DISCUSSION: of 2023 increased by 26% year-over-year, and the average price per ad in the quarter of 2023 decreased by 17% year-over-year. Substantially all of our revenue is currently generated from advertising on Facebook and Instagram. We rely on targeting and measurement tools that incorporate data signals from user activity on websites and services that we do not control in order to deliver relevant and effective ads to our users. Our advertising revenue has been, and we expect will continue to be, adversely. for March 2023, an increase of 5% year-over-year. Family monthly active people (MAP) was 3.81 billion as of March 31, 2023, an increase of 5% year-over-year. Facebook daily active users (DAUs) were 2.04 billion on average for March 2023, an increase of 4% year-over-year. Facebook monthly active users (MAUs) were 2.99 billion as of March 31, 2023, an increase of 2% year-over-year. Ad impressions delivered across our Family of Apps in the quarter of 2023 increased by 26% year-over-year, and the average price. \n",
      "\n",
      "RISK_FACTORS: base and our users' level of engagement across our products are critical to our success. Our financial performance has been and will continue to be significantly determined by our success in adding, retaining, and engaging active users of our products that deliver ad impressions, particularly for Facebook and Instagram. We have experienced, and expect to continue to experience, fluctuations and declines in the size of our active user base in one or more markets from time to time, particularly in markets. \n",
      "\n",
      "\n",
      "\u001b[00m\n",
      "\u001b[32;1m\u001b[1;3mFinal Answer:\n",
      "Based on the information retrieved from the SEC Filings, the user growth data for Instagram and Facebook is as follows: \n",
      "- Facebook daily active users (DAUs) were 2.04 billion on average for March 2023, an increase of 4% year-over-year. \n",
      "- Facebook monthly active users (MAUs) were 2.99 billion as of March 31, 2023, an increase of 2% year-over-year. \n",
      "- Family monthly active people (MAP) was 3.81 billion as of March 31, 2023, an increase of 5% year-over-year. \n",
      "- Ad impressions delivered across the Family of Apps in the quarter of 2023 increased by 26% year-over-year. \n",
      "- The average price per ad in the quarter of 2023 decreased by 17% year-over-year. \n",
      "\n",
      "This information was gathered from the Management Discussion section of the 10-K filing for the relevant year.\u001b[0m\n",
      "\n",
      "\u001b[1m> Finished chain.\u001b[0m\n",
      "\u001b[95m \n",
      "\n",
      "Based on the information retrieved from the SEC Filings, the user growth data for Instagram and Facebook is as follows: \n",
      "- Facebook daily active users (DAUs) were 2.04 billion on average for March 2023, an increase of 4% year-over-year. \n",
      "- Facebook monthly active users (MAUs) were 2.99 billion as of March 31, 2023, an increase of 2% year-over-year. \n",
      "- Family monthly active people (MAP) was 3.81 billion as of March 31, 2023, an increase of 5% year-over-year. \n",
      "- Ad impressions delivered across the Family of Apps in the quarter of 2023 increased by 26% year-over-year. \n",
      "- The average price per ad in the quarter of 2023 decreased by 17% year-over-year. \n",
      "\n",
      "This information was gathered from the Management Discussion section of the 10-K filing for the relevant year.\n",
      "\u001b[00m\n",
      "\u001b[32;1m\u001b[1;3mFinal Answer:\n",
      "Based on the SEC Filings data, the user growth for Instagram and Facebook is as follows:\n",
      "\n",
      "- Facebook daily active users (DAUs) were 2.04 billion on average for March 2023, an increase of 4% year-over-year.\n",
      "- Facebook monthly active users (MAUs) were 2.99 billion as of March 31, 2023, an increase of 2% year-over-year.\n",
      "- Family monthly active people (MAP) was 3.81 billion as of March 31, 2023, an increase of 5% year-over-year.\n",
      "- Ad impressions delivered across the Family of Apps in the quarter of 2023 increased by 26% year-over-year.\n",
      "- The average price per ad in the quarter of 2023 decreased by 17% year-over-year.\n",
      "\n",
      "These figures indicate a positive user growth trend for both Instagram and Facebook, with an increase in active users and ad impressions. The decrease in the average price per ad may suggest a strategy to enhance ad engagement and reach a wider audience. The data was retrieved from the Management Discussion section of the 10-K filing for the relevant year.\u001b[0m\n",
      "\n",
      "\u001b[1m> Finished chain.\u001b[0m\n",
      "\u001b[1m\u001b[92m [DEBUG]: [Crew Manager] Task output: Based on the SEC Filings data, the user growth for Instagram and Facebook is as follows:\n",
      "\n",
      "- Facebook daily active users (DAUs) were 2.04 billion on average for March 2023, an increase of 4% year-over-year.\n",
      "- Facebook monthly active users (MAUs) were 2.99 billion as of March 31, 2023, an increase of 2% year-over-year.\n",
      "- Family monthly active people (MAP) was 3.81 billion as of March 31, 2023, an increase of 5% year-over-year.\n",
      "- Ad impressions delivered across the Family of Apps in the quarter of 2023 increased by 26% year-over-year.\n",
      "- The average price per ad in the quarter of 2023 decreased by 17% year-over-year.\n",
      "\n",
      "These figures indicate a positive user growth trend for both Instagram and Facebook, with an increase in active users and ad impressions. The decrease in the average price per ad may suggest a strategy to enhance ad engagement and reach a wider audience. The data was retrieved from the Management Discussion section of the 10-K filing for the relevant year.\u001b[00m\n"
     ]
    }
   ],
   "source": [
    "res = financial_docs_crew.kickoff({\"question\":\"What was the user growth in instagram and facebook?\"})"
   ]
  },
  {
   "cell_type": "code",
   "execution_count": 64,
   "metadata": {},
   "outputs": [
    {
     "name": "stdout",
     "output_type": "stream",
     "text": [
      "Based on the SEC Filings data, the user growth for Instagram and Facebook is as follows:\n",
      "\n",
      "- Facebook daily active users (DAUs) were 2.04 billion on average for March 2023, an increase of 4% year-over-year.\n",
      "- Facebook monthly active users (MAUs) were 2.99 billion as of March 31, 2023, an increase of 2% year-over-year.\n",
      "- Family monthly active people (MAP) was 3.81 billion as of March 31, 2023, an increase of 5% year-over-year.\n",
      "- Ad impressions delivered across the Family of Apps in the quarter of 2023 increased by 26% year-over-year.\n",
      "- The average price per ad in the quarter of 2023 decreased by 17% year-over-year.\n",
      "\n",
      "These figures indicate a positive user growth trend for both Instagram and Facebook, with an increase in active users and ad impressions. The decrease in the average price per ad may suggest a strategy to enhance ad engagement and reach a wider audience. The data was retrieved from the Management Discussion section of the 10-K filing for the relevant year.\n"
     ]
    }
   ],
   "source": [
    "print(res)"
   ]
  },
  {
   "cell_type": "code",
   "execution_count": 65,
   "metadata": {},
   "outputs": [
    {
     "name": "stdout",
     "output_type": "stream",
     "text": [
      "\u001b[1m\u001b[92m [DEBUG]: Working Agent: Crew Manager\u001b[00m\n",
      "\u001b[1m\u001b[92m [INFO]: Starting Task: Use one of the tool to get the relevant documents to the question How much did it cost to train foundational language models like Llama?.Using the relevant context only, answer in detail to the question, and don't skip out on numerical figures (if any).\u001b[00m\n",
      "\n",
      "\n",
      "\u001b[1m> Entering new CrewAgentExecutor chain...\u001b[0m\n",
      "\u001b[32;1m\u001b[1;3mI need to delegate the task of gathering the relevant documents to answer the question about the cost of training foundational language models like Llama.\n",
      "\n",
      "Action:\n",
      "Delegate work to co-worker\n",
      "\n",
      "Action Input:\n",
      "{\n",
      "    \"task\": \"Retrieve documents on the cost of training foundational language models like Llama\",\n",
      "    \"context\": \"We need to provide a detailed answer to the question of how much it cost to train foundational language models like Llama. This information is crucial for our project analysis and decision-making process.\",\n",
      "    \"coworker\": \"SEC Filings Financial Data Analyst\"\n",
      "}\n",
      "\u001b[0m\n",
      "\n",
      "\u001b[1m> Entering new CrewAgentExecutor chain...\u001b[0m\n",
      "\u001b[32;1m\u001b[1;3mI need to use the 10-K data tool to search for information on the cost of training foundational language models like Llama in the yearly SEC filings of the company.\n",
      "\n",
      "Action:\n",
      "10-K data\n",
      "Action Input:\n",
      "{\n",
      "\"question\": \"cost of training foundational language models like Llama\"\n",
      "}\n",
      "\u001b[0m\u001b[95m \n",
      "\n",
      "MANAGEMENT_DISCUSSION: RL. Our FoA investments include expenses relating to headcount, data centers, and technical infrastructure as part of our efforts to develop our apps and our advertising services. These efforts include significant investments in AI initiatives, including to recommend relevant unconnected content across our products, enhance our advertising tools, and develop new product features using generative AI. We are also making significant investments in our metaverse efforts, including developing virtual and. was more than 10 times higher than in the Asia-Pacific region. --ARPU:--$48.03--$53.01--$52.34--$60.57---$48.29--$50.25---$49.13---$58.77---$48.85--------ARPU:--$15.49--$17.23--$16.50--$19.68--$15.35---$15.64--$14.23--$17.29---$15.51 Note: Non-advertising revenue includes RL revenue generated from the delivery of consumer hardware products and FoA Other revenue, which consists of net fees we receive from developers using our Payments infrastructure and revenue from various other sources. Our revenue by. respectively. Using these constant rates, total revenue and advertising revenue would have been $816 million and $806 million higher than actual total revenue and advertising revenue, respectively, for the three months ended March 31, 2023. Cost of revenue in the three months ended March 31, 2023 increased $103 million, or 2%, compared to the same period in 2022. The increase was driven by an increase in operational expenses related to our data centers and technical infrastructure, partially offset by a. \n",
      "\n",
      "\n",
      "\u001b[00m\n",
      "\u001b[32;1m\u001b[1;3mFinal Answer:\n",
      "MANAGEMENT DISCUSSION: RL. Our FoA investments include expenses relating to headcount, data centers, and technical infrastructure as part of our efforts to develop our apps and our advertising services. These efforts include significant investments in AI initiatives, including to recommend relevant unconnected content across our products, enhance our advertising tools, and develop new product features using generative AI. We are also making significant investments in our metaverse efforts, including developing virtual and. was more than 10 times higher than in the Asia-Pacific region. --ARPU:--$48.03--$53.01--$52.34--$60.57---$48.29--$50.25---$49.13---$58.77---$48.85--------ARPU:--$15.49--$17.23--$16.50--$19.68--$15.35---$15.64--$14.23--$17.29---$15.51 Note: Non-advertising revenue includes RL revenue generated from the delivery of consumer hardware products and FoA Other revenue, which consists of net fees we receive from developers using our Payments infrastructure and revenue from various other sources. Our revenue by. respectively. Using these constant rates, total revenue and advertising revenue would have been $816 million and $806 million higher than actual total revenue and advertising revenue, respectively, for the three months ended March 31, 2023. Cost of revenue in the three months ended March 31, 2023 increased $103 million, or 2%, compared to the same period in 2022. The increase was driven by an increase in operational expenses related to our data centers and technical infrastructure, partially offset by a.\u001b[0m\n",
      "\n",
      "\u001b[1m> Finished chain.\u001b[0m\n",
      "\u001b[95m \n",
      "\n",
      "MANAGEMENT DISCUSSION: RL. Our FoA investments include expenses relating to headcount, data centers, and technical infrastructure as part of our efforts to develop our apps and our advertising services. These efforts include significant investments in AI initiatives, including to recommend relevant unconnected content across our products, enhance our advertising tools, and develop new product features using generative AI. We are also making significant investments in our metaverse efforts, including developing virtual and. was more than 10 times higher than in the Asia-Pacific region. --ARPU:--$48.03--$53.01--$52.34--$60.57---$48.29--$50.25---$49.13---$58.77---$48.85--------ARPU:--$15.49--$17.23--$16.50--$19.68--$15.35---$15.64--$14.23--$17.29---$15.51 Note: Non-advertising revenue includes RL revenue generated from the delivery of consumer hardware products and FoA Other revenue, which consists of net fees we receive from developers using our Payments infrastructure and revenue from various other sources. Our revenue by. respectively. Using these constant rates, total revenue and advertising revenue would have been $816 million and $806 million higher than actual total revenue and advertising revenue, respectively, for the three months ended March 31, 2023. Cost of revenue in the three months ended March 31, 2023 increased $103 million, or 2%, compared to the same period in 2022. The increase was driven by an increase in operational expenses related to our data centers and technical infrastructure, partially offset by a.\n",
      "\u001b[00m\n",
      "\u001b[32;1m\u001b[1;3mThought: I now know the final answer\n",
      "\n",
      "Final Answer: The cost of training foundational language models like Llama is not explicitly mentioned in the provided document. The document mainly discusses investments in AI initiatives, including generative AI, metaverse efforts, and operational expenses related to data centers and technical infrastructure. Unfortunately, the specific cost related to training foundational language models like Llama is not detailed in this SEC filing.\u001b[0m\n",
      "\n",
      "\u001b[1m> Finished chain.\u001b[0m\n",
      "\u001b[1m\u001b[92m [DEBUG]: [Crew Manager] Task output: The cost of training foundational language models like Llama is not explicitly mentioned in the provided document. The document mainly discusses investments in AI initiatives, including generative AI, metaverse efforts, and operational expenses related to data centers and technical infrastructure. Unfortunately, the specific cost related to training foundational language models like Llama is not detailed in this SEC filing.\u001b[00m\n",
      "\u001b[1m\u001b[92m [DEBUG]: Working Agent: Crew Manager\u001b[00m\n",
      "\u001b[1m\u001b[92m [INFO]: Starting Task: Use one of the tool to get the relevant documents to the question How much did it cost to train foundational language models like Llama?.Using the relevant context only, answer in detail to the question, and don't skip out on numerical figures (if any).Also, mention the speakers from relevant context\u001b[00m\n",
      "\n",
      "\n",
      "\u001b[1m> Entering new CrewAgentExecutor chain...\u001b[0m\n",
      "\u001b[32;1m\u001b[1;3mI need to use the tools available to gather the relevant information to answer the question about the cost of training foundational language models like Llama.\n",
      "\n",
      "Action:\n",
      "Delegate work to co-worker\n",
      "\n",
      "Action Input:\n",
      "{\n",
      "    \"task\": \"Retrieve relevant documents mentioning the cost of training foundational language models like Llama\",\n",
      "    \"context\": \"The cost of training foundational language models like Llama is not explicitly mentioned in the provided document. The document mainly discusses investments in AI initiatives, including generative AI, metaverse efforts, and operational expenses related to data centers and technical infrastructure. Unfortunately, the specific cost related to training foundational language models like Llama is not detailed in this SEC filing.\",\n",
      "    \"coworker\": \"SEC Filings Financial Data Analyst\"\n",
      "}\n",
      "\u001b[0m\n",
      "\n",
      "\u001b[1m> Entering new CrewAgentExecutor chain...\u001b[0m\n",
      "\u001b[32;1m\u001b[1;3mI need to search through the 10-K yearly filing to see if there is any mention of the cost of training foundational language models like Llama, even though the context suggests it might not be explicitly stated.\n",
      "\n",
      "Action: 10-K data\n",
      "Action Input: {\"question\": \"cost of training foundational language models like Llama\"}\u001b[0m\u001b[95m \n",
      "\n",
      "MANAGEMENT_DISCUSSION: RL. Our FoA investments include expenses relating to headcount, data centers, and technical infrastructure as part of our efforts to develop our apps and our advertising services. These efforts include significant investments in AI initiatives, including to recommend relevant unconnected content across our products, enhance our advertising tools, and develop new product features using generative AI. We are also making significant investments in our metaverse efforts, including developing virtual and. was more than 10 times higher than in the Asia-Pacific region. --ARPU:--$48.03--$53.01--$52.34--$60.57---$48.29--$50.25---$49.13---$58.77---$48.85--------ARPU:--$15.49--$17.23--$16.50--$19.68--$15.35---$15.64--$14.23--$17.29---$15.51 Note: Non-advertising revenue includes RL revenue generated from the delivery of consumer hardware products and FoA Other revenue, which consists of net fees we receive from developers using our Payments infrastructure and revenue from various other sources. Our revenue by. respectively. Using these constant rates, total revenue and advertising revenue would have been $816 million and $806 million higher than actual total revenue and advertising revenue, respectively, for the three months ended March 31, 2023. Cost of revenue in the three months ended March 31, 2023 increased $103 million, or 2%, compared to the same period in 2022. The increase was driven by an increase in operational expenses related to our data centers and technical infrastructure, partially offset by a. \n",
      "\n",
      "\n",
      "\u001b[00m\n",
      "\u001b[32;1m\u001b[1;3mFinal Answer: Unfortunately, the specific cost related to training foundational language models like Llama is not detailed in the provided 10-K yearly filing. The document mainly discusses investments in AI initiatives, including generative AI, metaverse efforts, and operational expenses related to data centers and technical infrastructure. The cost of training foundational language models like Llama is not explicitly mentioned in this SEC filing.\u001b[0m\n",
      "\n",
      "\u001b[1m> Finished chain.\u001b[0m\n",
      "\u001b[95m \n",
      "\n",
      "Unfortunately, the specific cost related to training foundational language models like Llama is not detailed in the provided 10-K yearly filing. The document mainly discusses investments in AI initiatives, including generative AI, metaverse efforts, and operational expenses related to data centers and technical infrastructure. The cost of training foundational language models like Llama is not explicitly mentioned in this SEC filing.\n",
      "\u001b[00m\n",
      "\u001b[32;1m\u001b[1;3mThought: I need to use the tools available to gather the relevant information to answer the question about the cost of training foundational language models like Llama.\n",
      "\n",
      "Action: Delegate work to co-worker\n",
      "\n",
      "Action Input:\n",
      "{\n",
      "    \"task\": \"Retrieve relevant documents mentioning the cost of training foundational language models like Llama\",\n",
      "    \"context\": \"The cost of training foundational language models like Llama is not explicitly mentioned in the provided document. The document mainly discusses investments in AI initiatives, including generative AI, metaverse efforts, and operational expenses related to data centers and technical infrastructure. Unfortunately, the specific cost related to training foundational language models like Llama is not detailed in this SEC filing.\",\n",
      "    \"coworker\": \"Earnings Call transcripts Financial Data Analyst\"\n",
      "}\n",
      "\u001b[0m\n",
      "\n",
      "\u001b[1m> Entering new CrewAgentExecutor chain...\u001b[0m\n",
      "\u001b[32;1m\u001b[1;3mI need to search through the earnings call transcripts from the relevant quarter where the information about the cost of training foundational language models like Llama might be mentioned indirectly, such as under the broader category of AI investments or operational expenses.\n",
      "\n",
      "Action: Q3 earnings call data\n",
      "Action Input: {\"question\": \"cost of training foundational language models like Llama\"}\u001b[0m\u001b[95m \n",
      "\n",
      "Mark Zuckerberg: at the time, the decision was somewhat controversial, and we faced a lot of questions about CapEx spending, but I'm really glad that we did this. Now going forward, we think that training and operating future models will be even more compute-intensive. We don't have a clear expectation for exactly how much this will be yet, but the trend has been that state-of-the-art large language models have been trained on roughly 10x the amount of compute each year.  And our training clusters are only part of ourmight be a couple of years out to 10-plus years out. And as we -- I guess, here's one way to think about it.  A lot of last year and the work that we're doing with Llama 3 is basically making sure that we can scale our efforts to really produce state-of-the-art models. But once we get past that, there's a lot more kind of different research that I think we're going to be doing that's going to take our foundation models in potentially different directions than other players in the industry are going to godirections than other players in the industry are going to go in because we're focused on specific vision for what we're building. So it's really important as we think about what's going to be in Llama 5 or 6 or 7 and what cognitive abilities we want in there and what modalities we want to build into future multimodal versions of the models. We need to be doing that work in advance and to research those things. And it helps to -- and even though FAIR and GenAI will continue to be 2 kind of separate groups\n",
      "\n",
      "\n",
      "\u001b[00m\n",
      "\u001b[32;1m\u001b[1;3mFinal Answer: The cost of training foundational language models like Llama is not explicitly mentioned in the Q3 earnings call data. Mark Zuckerberg did discuss the increasing compute intensity required for training and operating future models, mentioning that state-of-the-art large language models have been trained on roughly 10 times the amount of compute each year. He highlighted the ongoing work with Llama 3 to scale efforts and mentioned future research directions for Llama 5, 6, or 7. The specific cost related to training foundational language models like Llama was not disclosed in this transcript.\u001b[0m\n",
      "\n",
      "\u001b[1m> Finished chain.\u001b[0m\n",
      "\u001b[95m \n",
      "\n",
      "The cost of training foundational language models like Llama is not explicitly mentioned in the Q3 earnings call data. Mark Zuckerberg did discuss the increasing compute intensity required for training and operating future models, mentioning that state-of-the-art large language models have been trained on roughly 10 times the amount of compute each year. He highlighted the ongoing work with Llama 3 to scale efforts and mentioned future research directions for Llama 5, 6, or 7. The specific cost related to training foundational language models like Llama was not disclosed in this transcript.\n",
      "\u001b[00m\n",
      "\u001b[32;1m\u001b[1;3mFinal Answer: The cost of training foundational language models like Llama is not explicitly mentioned in the SEC filings or earnings call transcripts. While there is discussion about the increasing compute intensity required for training and operating future models, including Llama 3, there are no specific figures provided regarding the cost of training these models. The documents mainly focus on investments in AI initiatives, operational expenses related to data centers, and technical infrastructure, without detailing the specific cost related to training foundational language models like Llama.\u001b[0m\n",
      "\n",
      "\u001b[1m> Finished chain.\u001b[0m\n",
      "\u001b[1m\u001b[92m [DEBUG]: [Crew Manager] Task output: The cost of training foundational language models like Llama is not explicitly mentioned in the SEC filings or earnings call transcripts. While there is discussion about the increasing compute intensity required for training and operating future models, including Llama 3, there are no specific figures provided regarding the cost of training these models. The documents mainly focus on investments in AI initiatives, operational expenses related to data centers, and technical infrastructure, without detailing the specific cost related to training foundational language models like Llama.\u001b[00m\n"
     ]
    }
   ],
   "source": [
    "res = financial_docs_crew.kickoff({\"question\":\"How much did it cost to train foundational language models like Llama?\"})"
   ]
  },
  {
   "cell_type": "code",
   "execution_count": 66,
   "metadata": {},
   "outputs": [
    {
     "name": "stdout",
     "output_type": "stream",
     "text": [
      "The cost of training foundational language models like Llama is not explicitly mentioned in the SEC filings or earnings call transcripts. While there is discussion about the increasing compute intensity required for training and operating future models, including Llama 3, there are no specific figures provided regarding the cost of training these models. The documents mainly focus on investments in AI initiatives, operational expenses related to data centers, and technical infrastructure, without detailing the specific cost related to training foundational language models like Llama.\n"
     ]
    }
   ],
   "source": [
    "print(res)"
   ]
  },
  {
   "cell_type": "code",
   "execution_count": 67,
   "metadata": {},
   "outputs": [
    {
     "name": "stdout",
     "output_type": "stream",
     "text": [
      "\u001b[1m\u001b[92m [DEBUG]: Working Agent: Crew Manager\u001b[00m\n",
      "\u001b[1m\u001b[92m [INFO]: Starting Task: Use one of the tool to get the relevant documents to the question What was capital expenditure the Meta Reality labs for Metaverse?.Using the relevant context only, answer in detail to the question, and don't skip out on numerical figures (if any).\u001b[00m\n",
      "\n",
      "\n",
      "\u001b[1m> Entering new CrewAgentExecutor chain...\u001b[0m\n",
      "\u001b[32;1m\u001b[1;3mI need to delegate the task of gathering the relevant documents to one of my co-workers in order to get the answer to the question about the capital expenditure of Meta Reality labs for Metaverse.\n",
      "\n",
      "Action:\n",
      "Delegate work to co-worker\n",
      "\n",
      "Action Input:\n",
      "{\n",
      "    \"task\": \"Gather relevant documents on capital expenditure of Meta Reality labs for Metaverse\",\n",
      "    \"context\": \"We need to find out the capital expenditure of Meta Reality labs specifically for their work on the Metaverse project. This information is crucial for our analysis and decision-making process.\",\n",
      "    \"coworker\": \"SEC Filings Financial Data Analyst\"\n",
      "}\n",
      "\u001b[0m\n",
      "\n",
      "\u001b[1m> Entering new CrewAgentExecutor chain...\u001b[0m\n",
      "\u001b[32;1m\u001b[1;3mI need to use the 10-K data tool to gather information on Meta Reality Labs' capital expenditure specifically for their work on the Metaverse project.\n",
      "\n",
      "Action: 10-K data\n",
      "Action Input: {\"question\": \"capital expenditure for Metaverse project\"}\u001b[0m\u001b[95m \n",
      "\n",
      "MANAGEMENT_DISCUSSION: each trend had on our advertising revenue during the periods presented. We expect our total expenses in 2023 to be driven by headcount-related expenses and investments in our data center capacity, servers, and network infrastructure. The majority of our investments are directed toward developing our family of apps. In the three months ended March 31, 2023, 80% of our total costs and expenses were recognized in FoA and 20% were recognized in RL. Our FoA investments include expenses relating to headcount,. in our metaverse efforts, including developing virtual and augmented reality devices, software for social platforms, neural interfaces, and other foundational technologies for the metaverse. Our RL investments include expenses relating to headcount and technology development across these efforts. Many of our RL investments are directed toward long-term, cutting-edge research and development for products for the metaverse that are not on the market today and may only be fully realized in the next decade.. \n",
      "\n",
      "RISK_FACTORS: in connection with legal and regulatory developments that may be material to our business. We are also continuing to increase our investments in new platforms and technologies, including as part of our efforts related to building the metaverse. Some of these investments, particularly our significant investments in Reality Labs, have generated only limited revenue and reduced our operating margin and profitability, and we expect the adverse financial impact of such investments to continue for the. \n",
      "\n",
      "\n",
      "\u001b[00m\n",
      "\u001b[32;1m\u001b[1;3mFinal Answer: \n",
      "MANAGEMENT_DISCUSSION: each trend had on our advertising revenue during the periods presented. We expect our total expenses in 2023 to be driven by headcount-related expenses and investments in our data center capacity, servers, and network infrastructure. The majority of our investments are directed toward developing our family of apps. In the three months ended March 31, 2023, 80% of our total costs and expenses were recognized in FoA and 20% were recognized in RL. Our FoA investments include expenses relating to headcount,. in our metaverse efforts, including developing virtual and augmented reality devices, software for social platforms, neural interfaces, and other foundational technologies for the metaverse. Our RL investments include expenses relating to headcount and technology development across these efforts. Many of our RL investments are directed toward long-term, cutting-edge research and development for products for the metaverse that are not on the market today and may only be fully realized in the next decade. \n",
      "\n",
      "RISK_FACTORS: in connection with legal and regulatory developments that may be material to our business. We are also continuing to increase our investments in new platforms and technologies, including as part of our efforts related to building the metaverse. Some of these investments, particularly our significant investments in Reality Labs, have generated only limited revenue and reduced our operating margin and profitability, and we expect the adverse financial impact of such investments to continue for the.\u001b[0m\n",
      "\n",
      "\u001b[1m> Finished chain.\u001b[0m\n",
      "\u001b[95m \n",
      "\n",
      "MANAGEMENT_DISCUSSION: each trend had on our advertising revenue during the periods presented. We expect our total expenses in 2023 to be driven by headcount-related expenses and investments in our data center capacity, servers, and network infrastructure. The majority of our investments are directed toward developing our family of apps. In the three months ended March 31, 2023, 80% of our total costs and expenses were recognized in FoA and 20% were recognized in RL. Our FoA investments include expenses relating to headcount,. in our metaverse efforts, including developing virtual and augmented reality devices, software for social platforms, neural interfaces, and other foundational technologies for the metaverse. Our RL investments include expenses relating to headcount and technology development across these efforts. Many of our RL investments are directed toward long-term, cutting-edge research and development for products for the metaverse that are not on the market today and may only be fully realized in the next decade. \n",
      "\n",
      "RISK_FACTORS: in connection with legal and regulatory developments that may be material to our business. We are also continuing to increase our investments in new platforms and technologies, including as part of our efforts related to building the metaverse. Some of these investments, particularly our significant investments in Reality Labs, have generated only limited revenue and reduced our operating margin and profitability, and we expect the adverse financial impact of such investments to continue for the.\n",
      "\u001b[00m\n",
      "\u001b[32;1m\u001b[1;3mFinal Answer:\n",
      "In the SEC Filings of Meta Reality labs, it is mentioned that their investments in the metaverse efforts include expenses related to headcount, developing virtual and augmented reality devices, software for social platforms, neural interfaces, and other foundational technologies for the metaverse. These investments are directed towards long-term, cutting-edge research and development for products for the metaverse that may only be fully realized in the next decade. Additionally, the majority of their investments are focused on developing their family of apps. In the three months ended March 31, 2023, 80% of their total costs and expenses were recognized in their family of apps, while 20% were recognized in Reality Labs. They are also increasing their investments in new platforms and technologies, including efforts related to building the metaverse. Some of these investments, particularly in Reality Labs, have generated limited revenue and reduced their operating margin and profitability.\u001b[0m\n",
      "\n",
      "\u001b[1m> Finished chain.\u001b[0m\n",
      "\u001b[1m\u001b[92m [DEBUG]: [Crew Manager] Task output: In the SEC Filings of Meta Reality labs, it is mentioned that their investments in the metaverse efforts include expenses related to headcount, developing virtual and augmented reality devices, software for social platforms, neural interfaces, and other foundational technologies for the metaverse. These investments are directed towards long-term, cutting-edge research and development for products for the metaverse that may only be fully realized in the next decade. Additionally, the majority of their investments are focused on developing their family of apps. In the three months ended March 31, 2023, 80% of their total costs and expenses were recognized in their family of apps, while 20% were recognized in Reality Labs. They are also increasing their investments in new platforms and technologies, including efforts related to building the metaverse. Some of these investments, particularly in Reality Labs, have generated limited revenue and reduced their operating margin and profitability.\u001b[00m\n",
      "\u001b[1m\u001b[92m [DEBUG]: Working Agent: Crew Manager\u001b[00m\n",
      "\u001b[1m\u001b[92m [INFO]: Starting Task: Use one of the tool to get the relevant documents to the question What was capital expenditure the Meta Reality labs for Metaverse?.Using the relevant context only, answer in detail to the question, and don't skip out on numerical figures (if any).Also, mention the speakers from relevant context\u001b[00m\n",
      "\n",
      "\n",
      "\u001b[1m> Entering new CrewAgentExecutor chain...\u001b[0m\n",
      "\u001b[32;1m\u001b[1;3mI need to use the tools available to gather the relevant documents and information to answer the question about the capital expenditure of Meta Reality Labs for the Metaverse.\n",
      "\n",
      "Action:\n",
      "Delegate work to co-worker\n",
      "\n",
      "Action Input:\n",
      "{\n",
      "    \"task\": \"Retrieve relevant documents on capital expenditure for Meta Reality Labs for the Metaverse\",\n",
      "    \"context\": \"In the SEC Filings of Meta Reality labs, it is mentioned that their investments in the metaverse efforts include expenses related to headcount, developing virtual and augmented reality devices, software for social platforms, neural interfaces, and other foundational technologies for the metaverse. These investments are directed towards long-term, cutting-edge research and development for products for the metaverse that may only be fully realized in the next decade. Additionally, the majority of their investments are focused on developing their family of apps. In the three months ended March 31, 2023, 80% of their total costs and expenses were recognized in their family of apps, while 20% were recognized in Reality Labs. They are also increasing their investments in new platforms and technologies, including efforts related to building the metaverse. Some of these investments, particularly in Reality Labs, have generated limited revenue and reduced their operating margin and profitability.\",\n",
      "    \"coworker\": \"SEC Filings Financial Data Analyst\"\n",
      "}\n",
      "\u001b[0m\n",
      "\n",
      "\u001b[1m> Entering new CrewAgentExecutor chain...\u001b[0m\n",
      "\u001b[32;1m\u001b[1;3mI need to gather information on capital expenditure for Meta Reality Labs specifically related to their investments in the metaverse.\n",
      "\n",
      "Action:\n",
      "10-Q1 data\n",
      "Action Input:\n",
      "{\n",
      "\"question\": \"capital expenditure Meta Reality Labs metaverse\"\n",
      "}\n",
      "\u001b[0m\u001b[95m \n",
      "\n",
      "RISK_FACTORS: in connection with legal and regulatory developments that may be material to our business. We are also continuing to increase our investments in new platforms and technologies, including as part of our efforts related to building the metaverse. Some of these investments, particularly our significant investments in Reality Labs, have generated only limited revenue and reduced our operating margin and profitability, and we expect the adverse financial impact of such investments to continue for the. \n",
      "\n",
      "MANAGEMENT_DISCUSSION: in our metaverse efforts, including developing virtual and augmented reality devices, software for social platforms, neural interfaces, and other foundational technologies for the metaverse. Our RL investments include expenses relating to headcount and technology development across these efforts. Many of our RL investments are directed toward long-term, cutting-edge research and development for products for the metaverse that are not on the market today and may only be fully realized in the next decade.. each trend had on our advertising revenue during the periods presented. We expect our total expenses in 2023 to be driven by headcount-related expenses and investments in our data center capacity, servers, and network infrastructure. The majority of our investments are directed toward developing our family of apps. In the three months ended March 31, 2023, 80% of our total costs and expenses were recognized in FoA and 20% were recognized in RL. Our FoA investments include expenses relating to headcount,. \n",
      "\n",
      "\n",
      "\u001b[00m\n",
      "\u001b[32;1m\u001b[1;3mFinal Answer: \n",
      "\n",
      "RISK_FACTORS: \n",
      "in connection with legal and regulatory developments that may be material to our business. We are also continuing to increase our investments in new platforms and technologies, including as part of our efforts related to building the metaverse. Some of these investments, particularly our significant investments in Reality Labs, have generated only limited revenue and reduced our operating margin and profitability, and we expect the adverse financial impact of such investments to continue for the.\n",
      "\n",
      "MANAGEMENT_DISCUSSION: \n",
      "in our metaverse efforts, including developing virtual and augmented reality devices, software for social platforms, neural interfaces, and other foundational technologies for the metaverse. Our RL investments include expenses relating to headcount and technology development across these efforts. Many of our RL investments are directed toward long-term, cutting-edge research and development for products for the metaverse that are not on the market today and may only be fully realized in the next decade.. each trend had on our advertising revenue during the periods presented. We expect our total expenses in 2023 to be driven by headcount-related expenses and investments in our data center capacity, servers, and network infrastructure. The majority of our investments are directed toward developing our family of apps. In the three months ended March 31, 2023, 80% of our total costs and expenses were recognized in FoA and 20% were recognized in RL. Our FoA investments include expenses relating to headcount,.\u001b[0m\n",
      "\n",
      "\u001b[1m> Finished chain.\u001b[0m\n",
      "\u001b[95m \n",
      "\n",
      "RISK_FACTORS: \n",
      "in connection with legal and regulatory developments that may be material to our business. We are also continuing to increase our investments in new platforms and technologies, including as part of our efforts related to building the metaverse. Some of these investments, particularly our significant investments in Reality Labs, have generated only limited revenue and reduced our operating margin and profitability, and we expect the adverse financial impact of such investments to continue for the.\n",
      "\n",
      "MANAGEMENT_DISCUSSION: \n",
      "in our metaverse efforts, including developing virtual and augmented reality devices, software for social platforms, neural interfaces, and other foundational technologies for the metaverse. Our RL investments include expenses relating to headcount and technology development across these efforts. Many of our RL investments are directed toward long-term, cutting-edge research and development for products for the metaverse that are not on the market today and may only be fully realized in the next decade.. each trend had on our advertising revenue during the periods presented. We expect our total expenses in 2023 to be driven by headcount-related expenses and investments in our data center capacity, servers, and network infrastructure. The majority of our investments are directed toward developing our family of apps. In the three months ended March 31, 2023, 80% of our total costs and expenses were recognized in FoA and 20% were recognized in RL. Our FoA investments include expenses relating to headcount,.\n",
      "\u001b[00m\n",
      "\u001b[32;1m\u001b[1;3mFinal Answer:\n",
      "In the SEC Filings of Meta Reality Labs, it is mentioned that their investments in the metaverse efforts include expenses related to headcount, developing virtual and augmented reality devices, software for social platforms, neural interfaces, and other foundational technologies for the metaverse. The majority of their investments are focused on developing their family of apps, with 80% of their total costs and expenses recognized in their family of apps, and 20% recognized in Reality Labs. They are increasing investments in new platforms and technologies, including efforts related to building the metaverse. Some of these investments, particularly in Reality Labs, have generated limited revenue and reduced their operating margin and profitability.\n",
      "\n",
      "The relevant documents from the SEC Filings indicate that Meta Reality Labs' investments in the metaverse include expenses related to headcount, technology development, and research and development for products for the metaverse. The majority of their investments are directed towards developing their family of apps, with a significant portion of costs and expenses recognized in their family of apps. The investments in Reality Labs have generated limited revenue and impacted their operating margin and profitability.\u001b[0m\n",
      "\n",
      "\u001b[1m> Finished chain.\u001b[0m\n",
      "\u001b[1m\u001b[92m [DEBUG]: [Crew Manager] Task output: In the SEC Filings of Meta Reality Labs, it is mentioned that their investments in the metaverse efforts include expenses related to headcount, developing virtual and augmented reality devices, software for social platforms, neural interfaces, and other foundational technologies for the metaverse. The majority of their investments are focused on developing their family of apps, with 80% of their total costs and expenses recognized in their family of apps, and 20% recognized in Reality Labs. They are increasing investments in new platforms and technologies, including efforts related to building the metaverse. Some of these investments, particularly in Reality Labs, have generated limited revenue and reduced their operating margin and profitability.\n",
      "\n",
      "The relevant documents from the SEC Filings indicate that Meta Reality Labs' investments in the metaverse include expenses related to headcount, technology development, and research and development for products for the metaverse. The majority of their investments are directed towards developing their family of apps, with a significant portion of costs and expenses recognized in their family of apps. The investments in Reality Labs have generated limited revenue and impacted their operating margin and profitability.\u001b[00m\n"
     ]
    }
   ],
   "source": [
    "res = financial_docs_crew.kickoff({\"question\":\"What was capital expenditure the Meta Reality labs for Metaverse?\"})"
   ]
  },
  {
   "cell_type": "code",
   "execution_count": 68,
   "metadata": {},
   "outputs": [
    {
     "name": "stdout",
     "output_type": "stream",
     "text": [
      "In the SEC Filings of Meta Reality Labs, it is mentioned that their investments in the metaverse efforts include expenses related to headcount, developing virtual and augmented reality devices, software for social platforms, neural interfaces, and other foundational technologies for the metaverse. The majority of their investments are focused on developing their family of apps, with 80% of their total costs and expenses recognized in their family of apps, and 20% recognized in Reality Labs. They are increasing investments in new platforms and technologies, including efforts related to building the metaverse. Some of these investments, particularly in Reality Labs, have generated limited revenue and reduced their operating margin and profitability.\n",
      "\n",
      "The relevant documents from the SEC Filings indicate that Meta Reality Labs' investments in the metaverse include expenses related to headcount, technology development, and research and development for products for the metaverse. The majority of their investments are directed towards developing their family of apps, with a significant portion of costs and expenses recognized in their family of apps. The investments in Reality Labs have generated limited revenue and impacted their operating margin and profitability.\n"
     ]
    }
   ],
   "source": [
    "print(res)"
   ]
  },
  {
   "cell_type": "markdown",
   "metadata": {},
   "source": [
    "## BOOKS"
   ]
  },
  {
   "cell_type": "code",
   "execution_count": 56,
   "metadata": {},
   "outputs": [],
   "source": [
    "from langchain_text_splitters import MarkdownHeaderTextSplitter\n",
    "with open(\"books/Applied_corporate_finance/Applied_corporate_finance.md\", \"r\", encoding=\"utf-8\") as input_file:\n",
    "    text = input_file.read()\n",
    "# html = markdown.markdown(text)\n",
    "\n",
    "\n"
   ]
  },
  {
   "cell_type": "code",
   "execution_count": 57,
   "metadata": {},
   "outputs": [],
   "source": [
    "# markdown_splitter.aggregate_lines_to_chunks(md_header_splits)"
   ]
  },
  {
   "cell_type": "code",
   "execution_count": 72,
   "metadata": {},
   "outputs": [],
   "source": [
    "import os\n",
    "book_dir = \"BOOKS_MD\"\n",
    "\n",
    "headers_to_split_on = [\n",
    "    (\"#\", \"Header 1\"),\n",
    "    (\"##\", \"Header 2\"),\n",
    "    (\"###\", \"Header 3\"),\n",
    "]\n",
    "markdown_splitter = MarkdownHeaderTextSplitter(headers_to_split_on=headers_to_split_on,return_each_line=False)\n",
    "all_docs = []\n",
    "for book_name in os.listdir(book_dir):\n",
    "    books_path = os.path.join(book_dir,book_name)\n",
    "    with open(f\"{books_path}/{book_name}.md\", \"r\", encoding=\"utf-8\") as input_file:\n",
    "        text = input_file.read()\n",
    "    md_header_splits = markdown_splitter.split_text(text)\n",
    "    # print(md_header_splits)\n",
    "    for md in md_header_splits:\n",
    "        md.metadata.update({\"book_name\":book_name}) \n",
    "    # break\n",
    "    all_docs.extend(md_header_splits)"
   ]
  },
  {
   "cell_type": "code",
   "execution_count": 77,
   "metadata": {},
   "outputs": [
    {
     "name": "stderr",
     "output_type": "stream",
     "text": [
      "/home/athekunal/Finance Data/.venv/lib/python3.10/site-packages/tqdm/auto.py:21: TqdmWarning: IProgress not found. Please update jupyter and ipywidgets. See https://ipywidgets.readthedocs.io/en/stable/user_install.html\n",
      "  from .autonotebook import tqdm as notebook_tqdm\n",
      "/home/athekunal/Finance Data/.venv/lib/python3.10/site-packages/huggingface_hub/file_download.py:1132: FutureWarning: `resume_download` is deprecated and will be removed in version 1.0.0. Downloads always resume when possible. If you want to force a new download, use `force_download=True`.\n",
      "  warnings.warn(\n",
      "/home/athekunal/Finance Data/.venv/lib/python3.10/site-packages/torch/cuda/__init__.py:118: UserWarning: CUDA initialization: The NVIDIA driver on your system is too old (found version 11060). Please update your GPU driver by downloading and installing a new version from the URL: http://www.nvidia.com/Download/index.aspx Alternatively, go to: https://pytorch.org to install a PyTorch version that has been compiled with your version of the CUDA driver. (Triggered internally at ../c10/cuda/CUDAFunctions.cpp:108.)\n",
      "  return torch._C._cuda_getDeviceCount() > 0\n"
     ]
    }
   ],
   "source": [
    "from langchain_chroma import Chroma\n",
    "from langchain_community.document_loaders import TextLoader\n",
    "from langchain_community.embeddings.sentence_transformer import (\n",
    "    SentenceTransformerEmbeddings,\n",
    ")\n",
    "\n",
    "embedding_function = SentenceTransformerEmbeddings(model_name=\"all-MiniLM-L6-v2\")\n",
    "chroma_db = Chroma.from_documents(all_docs, embedding_function, persist_directory=\"./chroma_db\")"
   ]
  },
  {
   "cell_type": "code",
   "execution_count": 78,
   "metadata": {},
   "outputs": [],
   "source": [
    "db3 = Chroma(persist_directory=\"./chroma_db\", embedding_function=embedding_function)\n",
    "docs = db3.similarity_search(\"What is valuation?\")"
   ]
  },
  {
   "cell_type": "code",
   "execution_count": null,
   "metadata": {},
   "outputs": [],
   "source": []
  }
 ],
 "metadata": {
  "kernelspec": {
   "display_name": "openbb-env",
   "language": "python",
   "name": "python3"
  },
  "language_info": {
   "codemirror_mode": {
    "name": "ipython",
    "version": 3
   },
   "file_extension": ".py",
   "mimetype": "text/x-python",
   "name": "python",
   "nbconvert_exporter": "python",
   "pygments_lexer": "ipython3",
   "version": "3.10.12"
  }
 },
 "nbformat": 4,
 "nbformat_minor": 2
}
